{
 "cells": [
  {
   "cell_type": "code",
   "execution_count": 1,
   "id": "13362aec",
   "metadata": {},
   "outputs": [],
   "source": [
    "import numpy as np\n",
    "import pandas as pd\n",
    "import matplotlib.pyplot as plt"
   ]
  },
  {
   "cell_type": "markdown",
   "id": "6e72ee7f",
   "metadata": {},
   "source": [
    "# Doc Strings"
   ]
  },
  {
   "cell_type": "markdown",
   "id": "8f85a3b6",
   "metadata": {},
   "source": [
    "This is a good example of how to include docstrings in a function:"
   ]
  },
  {
   "cell_type": "code",
   "execution_count": 7,
   "id": "9c2a219b",
   "metadata": {},
   "outputs": [],
   "source": [
    "def string_test():\n",
    "    ''' \n",
    "    description of what the function does.\n",
    "    \n",
    "    Args: \n",
    "        description of the arguments, if any.\n",
    "    \n",
    "    Returns: \n",
    "        description of the return value(s), if any\n",
    "    \n",
    "    Description of the errors raised, if any.\n",
    "    \n",
    "    optional extra notes or examples of usage.\n",
    "    '''\n",
    "    \n",
    "    return 42"
   ]
  },
  {
   "cell_type": "code",
   "execution_count": 3,
   "id": "e60aba88",
   "metadata": {
    "scrolled": true
   },
   "outputs": [
    {
     "data": {
      "text/plain": [
       "42"
      ]
     },
     "execution_count": 3,
     "metadata": {},
     "output_type": "execute_result"
    }
   ],
   "source": [
    "string_test()"
   ]
  },
  {
   "cell_type": "markdown",
   "id": "8895d91c",
   "metadata": {},
   "source": [
    "the .__doc__ attribute is assigned any function that is created, and allows you to access the docstring."
   ]
  },
  {
   "cell_type": "code",
   "execution_count": 12,
   "id": "42888862",
   "metadata": {},
   "outputs": [
    {
     "name": "stdout",
     "output_type": "stream",
     "text": [
      " \n",
      "    description of what the function does.\n",
      "    \n",
      "    Args: \n",
      "        description of the arguments, if any.\n",
      "    \n",
      "    Returns: \n",
      "        description of the return value(s), if any\n",
      "    \n",
      "    Description of the errors raised, if any.\n",
      "    \n",
      "    optional extra notes or examples of usage.\n",
      "    \n"
     ]
    }
   ],
   "source": [
    "print(string_test.__doc__)"
   ]
  },
  {
   "cell_type": "markdown",
   "id": "827bacdb",
   "metadata": {},
   "source": [
    "### EXAMPLE:"
   ]
  },
  {
   "cell_type": "code",
   "execution_count": 16,
   "id": "b4a6c19b",
   "metadata": {},
   "outputs": [],
   "source": [
    "def test_func():\n",
    "    '''\n",
    "    This is a test to determine my comprehension.\n",
    "    This function takes no arguments.\n",
    "    It returns the phrase 'yep!'\n",
    "    it raises no errors.\n",
    "    I have no additional notes.\n",
    "    \n",
    "    '''\n",
    "    return print('yep!')\n"
   ]
  },
  {
   "cell_type": "code",
   "execution_count": 17,
   "id": "602f6872",
   "metadata": {},
   "outputs": [
    {
     "name": "stdout",
     "output_type": "stream",
     "text": [
      "yep!\n"
     ]
    }
   ],
   "source": [
    "test_func()"
   ]
  },
  {
   "cell_type": "code",
   "execution_count": 19,
   "id": "b5239906",
   "metadata": {},
   "outputs": [
    {
     "name": "stdout",
     "output_type": "stream",
     "text": [
      "\n",
      "    This is a test to determine my comprehension.\n",
      "    This function takes no arguments.\n",
      "    It returns the phrase 'yep!'\n",
      "    it raises no errors.\n",
      "    I have no additional notes.\n",
      "    \n",
      "    \n"
     ]
    }
   ],
   "source": [
    "print(test_func.__doc__)"
   ]
  },
  {
   "cell_type": "markdown",
   "id": "4c296d76",
   "metadata": {},
   "source": [
    "Using inspect.getdoc() from the inspect module will format the docstrings in a nicer, more readable way by taking care of the blank spaces and odd formatting. \n",
    "\n",
    "Make sure to import the inspect module."
   ]
  },
  {
   "cell_type": "code",
   "execution_count": 20,
   "id": "630a1eb7",
   "metadata": {},
   "outputs": [
    {
     "name": "stdout",
     "output_type": "stream",
     "text": [
      "This is a test to determine my comprehension.\n",
      "This function takes no arguments.\n",
      "It returns the phrase 'yep!'\n",
      "it raises no errors.\n",
      "I have no additional notes.\n"
     ]
    }
   ],
   "source": [
    "import inspect \n",
    "\n",
    "print(inspect.getdoc(test_func))\n"
   ]
  },
  {
   "cell_type": "markdown",
   "id": "46526930",
   "metadata": {},
   "source": [
    "In jupyter notebook, press `shift` + `tab` within the function parentheses to access the docstrings"
   ]
  },
  {
   "cell_type": "code",
   "execution_count": 22,
   "id": "6ca368ce",
   "metadata": {},
   "outputs": [
    {
     "name": "stdout",
     "output_type": "stream",
     "text": [
      "yep!\n"
     ]
    }
   ],
   "source": [
    "# press shift + tab in the parentheses:\n",
    "test_func()"
   ]
  },
  {
   "cell_type": "markdown",
   "id": "1b8d7d28",
   "metadata": {},
   "source": [
    "### Putting it all Together:"
   ]
  },
  {
   "cell_type": "markdown",
   "id": "24665199",
   "metadata": {},
   "source": [
    "Here, we'll do three thrings: \n",
    " 1. Write a function that has a docstring in it. \n",
    " 2. Retrieve the docstring using both the .__doc__ attribute and again using the .getdoc method from the inspect module. \n",
    " 3. Finally, we'll call the function.\n",
    " \n",
    " \n",
    " For reference, the inspect module documentation can be found [here](https://docs.python.org/3/library/inspect.html)."
   ]
  },
  {
   "cell_type": "code",
   "execution_count": 26,
   "id": "514acc13",
   "metadata": {},
   "outputs": [
    {
     "name": "stdout",
     "output_type": "stream",
     "text": [
      "\n",
      "    This function sums two integers.\n",
      "    It takes two arguments, x and y.\n",
      "    It returns the sum of the two arguments.\n",
      "    x and y must be integers.\n",
      "    \n",
      "This function sums two integers.\n",
      "It takes two arguments, x and y.\n",
      "It returns the sum of the two arguments.\n",
      "x and y must be integers.\n"
     ]
    },
    {
     "data": {
      "text/plain": [
       "9"
      ]
     },
     "execution_count": 26,
     "metadata": {},
     "output_type": "execute_result"
    }
   ],
   "source": [
    "import inspect\n",
    "\n",
    "def practice_func(x, y):\n",
    "    '''\n",
    "    This function sums two integers.\n",
    "    It takes two arguments, x and y.\n",
    "    It returns the sum of the two arguments.\n",
    "    x and y must be integers.\n",
    "    '''\n",
    "    return x + y\n",
    "\n",
    "raw_docstring = practice_func.__doc__\n",
    "print(raw_docstring)\n",
    "\n",
    "formatted_docstring = inspect.getdoc(practice_func)\n",
    "print(formatted_docstring)\n",
    "\n",
    "practice_func(4, 5)"
   ]
  },
  {
   "cell_type": "markdown",
   "id": "aa7a18c2",
   "metadata": {},
   "source": [
    "## Writing Doctrings"
   ]
  },
  {
   "cell_type": "markdown",
   "id": "b62289f3",
   "metadata": {},
   "source": [
    "There are two main style guides for writing docstrings, [Google Style](https://google.github.io/styleguide/pyguide.html#38-comments-and-docstrings) and [Numpy Doc](https://numpydoc.readthedocs.io/en/latest/format.html). \n",
    "\n",
    "We'll use Google Style because it takes less vertical space.\n",
    "\n",
    "1. __Describe what the function does__\n",
    " - use imperative language like \"Split the dataframe\" instead of \"This function will split the data frame\".\n",
    "\n",
    "\n",
    "2. __Describe the arguments, if any__\n",
    " - list each argument name, then its expected type in parentheses, then its role in the function.\n",
    " - if extra space is needed, break to the next line and indent.\n",
    " - if the arg has a default value, include \"optional\" along with its type.\n",
    " \n",
    "\n",
    "3. __Describe the return values, if any__\n",
    " - list the expected type or types of what gets returned\n",
    " - you can also include a comment on what gets returned, but the name of the function and description will likely make this clear. \n",
    " - additional lines are not indented."
   ]
  },
  {
   "cell_type": "code",
   "execution_count": 31,
   "id": "fff6b387",
   "metadata": {},
   "outputs": [],
   "source": [
    "def practice_func(x, y=5):\n",
    "    '''Adds two numbers together.\n",
    "    \n",
    "    Args:\n",
    "        x (int, float): Any number.\n",
    "        y (int, float, optional): Any number.\n",
    "        \n",
    "    Returns:\n",
    "        Int or float  \n",
    "    '''"
   ]
  },
  {
   "cell_type": "code",
   "execution_count": 32,
   "id": "830e5faa",
   "metadata": {},
   "outputs": [
    {
     "name": "stdout",
     "output_type": "stream",
     "text": [
      "Adds two numbers together.\n",
      "\n",
      "Args:\n",
      "    x (int, float): Any number.\n",
      "    y (int, float, optional): Any number.\n",
      "    \n",
      "Returns:\n",
      "    Int or float  \n"
     ]
    }
   ],
   "source": [
    "print(inspect.getdoc(practice_func))"
   ]
  },
  {
   "cell_type": "markdown",
   "id": "53a852f0",
   "metadata": {},
   "source": [
    "Note that because no errors were explicitly stated to be raised in the function itself, the docstring did not require any mention of errors."
   ]
  },
  {
   "cell_type": "markdown",
   "id": "2622ae1f",
   "metadata": {},
   "source": [
    "# Don't Repeat Yourself (DRY) and Do One Thing (DOT)"
   ]
  },
  {
   "cell_type": "markdown",
   "id": "85931b8b",
   "metadata": {},
   "source": [
    "## DRY\n",
    "\n",
    "Instead of repeating logic, which can be quick for development but leads to potential errors, in production it's better to wrap repeating logic in a function and then call that function."
   ]
  },
  {
   "cell_type": "code",
   "execution_count": 45,
   "id": "cf47c41b",
   "metadata": {
    "scrolled": true
   },
   "outputs": [
    {
     "data": {
      "text/html": [
       "<div>\n",
       "<style scoped>\n",
       "    .dataframe tbody tr th:only-of-type {\n",
       "        vertical-align: middle;\n",
       "    }\n",
       "\n",
       "    .dataframe tbody tr th {\n",
       "        vertical-align: top;\n",
       "    }\n",
       "\n",
       "    .dataframe thead th {\n",
       "        text-align: right;\n",
       "    }\n",
       "</style>\n",
       "<table border=\"1\" class=\"dataframe\">\n",
       "  <thead>\n",
       "    <tr style=\"text-align: right;\">\n",
       "      <th></th>\n",
       "      <th>y1_gpa</th>\n",
       "      <th>y2_gpa</th>\n",
       "      <th>y3_gpa</th>\n",
       "      <th>y4_gpa</th>\n",
       "    </tr>\n",
       "  </thead>\n",
       "  <tbody>\n",
       "    <tr>\n",
       "      <th>0</th>\n",
       "      <td>1.668088</td>\n",
       "      <td>2.881298</td>\n",
       "      <td>0.000457</td>\n",
       "      <td>1.209330</td>\n",
       "    </tr>\n",
       "    <tr>\n",
       "      <th>1</th>\n",
       "      <td>0.587024</td>\n",
       "      <td>0.369354</td>\n",
       "      <td>0.745041</td>\n",
       "      <td>1.382243</td>\n",
       "    </tr>\n",
       "    <tr>\n",
       "      <th>2</th>\n",
       "      <td>1.587070</td>\n",
       "      <td>2.155267</td>\n",
       "      <td>1.676778</td>\n",
       "      <td>2.740878</td>\n",
       "    </tr>\n",
       "    <tr>\n",
       "      <th>3</th>\n",
       "      <td>0.817809</td>\n",
       "      <td>3.512470</td>\n",
       "      <td>0.109550</td>\n",
       "      <td>2.681870</td>\n",
       "    </tr>\n",
       "    <tr>\n",
       "      <th>4</th>\n",
       "      <td>1.669219</td>\n",
       "      <td>2.234759</td>\n",
       "      <td>0.561548</td>\n",
       "      <td>0.792406</td>\n",
       "    </tr>\n",
       "    <tr>\n",
       "      <th>5</th>\n",
       "      <td>3.202978</td>\n",
       "      <td>3.873046</td>\n",
       "      <td>1.253697</td>\n",
       "      <td>2.769290</td>\n",
       "    </tr>\n",
       "    <tr>\n",
       "      <th>6</th>\n",
       "      <td>3.505557</td>\n",
       "      <td>3.578427</td>\n",
       "      <td>0.340177</td>\n",
       "      <td>0.156219</td>\n",
       "    </tr>\n",
       "    <tr>\n",
       "      <th>7</th>\n",
       "      <td>0.679322</td>\n",
       "      <td>3.512570</td>\n",
       "      <td>0.393387</td>\n",
       "      <td>1.684431</td>\n",
       "    </tr>\n",
       "    <tr>\n",
       "      <th>8</th>\n",
       "      <td>3.831558</td>\n",
       "      <td>2.132661</td>\n",
       "      <td>2.767508</td>\n",
       "      <td>1.262063</td>\n",
       "    </tr>\n",
       "    <tr>\n",
       "      <th>9</th>\n",
       "      <td>2.746004</td>\n",
       "      <td>3.338503</td>\n",
       "      <td>0.073153</td>\n",
       "      <td>3.000577</td>\n",
       "    </tr>\n",
       "    <tr>\n",
       "      <th>10</th>\n",
       "      <td>3.955444</td>\n",
       "      <td>2.992663</td>\n",
       "      <td>1.121776</td>\n",
       "      <td>3.157117</td>\n",
       "    </tr>\n",
       "    <tr>\n",
       "      <th>11</th>\n",
       "      <td>0.412904</td>\n",
       "      <td>1.791574</td>\n",
       "      <td>3.634382</td>\n",
       "      <td>1.174457</td>\n",
       "    </tr>\n",
       "    <tr>\n",
       "      <th>12</th>\n",
       "      <td>1.151101</td>\n",
       "      <td>0.520114</td>\n",
       "      <td>0.077468</td>\n",
       "      <td>2.715342</td>\n",
       "    </tr>\n",
       "    <tr>\n",
       "      <th>13</th>\n",
       "      <td>0.846512</td>\n",
       "      <td>1.062187</td>\n",
       "      <td>1.966293</td>\n",
       "      <td>0.213450</td>\n",
       "    </tr>\n",
       "    <tr>\n",
       "      <th>14</th>\n",
       "      <td>2.296470</td>\n",
       "      <td>0.586914</td>\n",
       "      <td>2.357222</td>\n",
       "      <td>2.799033</td>\n",
       "    </tr>\n",
       "    <tr>\n",
       "      <th>15</th>\n",
       "      <td>0.409338</td>\n",
       "      <td>1.656224</td>\n",
       "      <td>2.777601</td>\n",
       "      <td>1.656717</td>\n",
       "    </tr>\n",
       "    <tr>\n",
       "      <th>16</th>\n",
       "      <td>0.199814</td>\n",
       "      <td>2.143586</td>\n",
       "      <td>2.655179</td>\n",
       "      <td>2.059556</td>\n",
       "    </tr>\n",
       "    <tr>\n",
       "      <th>17</th>\n",
       "      <td>3.778379</td>\n",
       "      <td>2.346220</td>\n",
       "      <td>3.613608</td>\n",
       "      <td>0.549899</td>\n",
       "    </tr>\n",
       "    <tr>\n",
       "      <th>18</th>\n",
       "      <td>0.557105</td>\n",
       "      <td>3.229565</td>\n",
       "      <td>1.590707</td>\n",
       "      <td>0.661417</td>\n",
       "    </tr>\n",
       "    <tr>\n",
       "      <th>19</th>\n",
       "      <td>3.710034</td>\n",
       "      <td>1.391063</td>\n",
       "      <td>3.003248</td>\n",
       "      <td>2.903992</td>\n",
       "    </tr>\n",
       "    <tr>\n",
       "      <th>20</th>\n",
       "      <td>3.533224</td>\n",
       "      <td>2.494689</td>\n",
       "      <td>3.003770</td>\n",
       "      <td>1.395593</td>\n",
       "    </tr>\n",
       "    <tr>\n",
       "      <th>21</th>\n",
       "      <td>1.079712</td>\n",
       "      <td>3.583545</td>\n",
       "      <td>1.712365</td>\n",
       "      <td>3.859360</td>\n",
       "    </tr>\n",
       "    <tr>\n",
       "      <th>22</th>\n",
       "      <td>2.653766</td>\n",
       "      <td>2.486783</td>\n",
       "      <td>0.458984</td>\n",
       "      <td>3.797957</td>\n",
       "    </tr>\n",
       "    <tr>\n",
       "      <th>23</th>\n",
       "      <td>1.799649</td>\n",
       "      <td>2.313558</td>\n",
       "      <td>1.632547</td>\n",
       "      <td>0.948108</td>\n",
       "    </tr>\n",
       "    <tr>\n",
       "      <th>24</th>\n",
       "      <td>3.613518</td>\n",
       "      <td>2.294718</td>\n",
       "      <td>0.011481</td>\n",
       "      <td>2.468580</td>\n",
       "    </tr>\n",
       "    <tr>\n",
       "      <th>25</th>\n",
       "      <td>1.306580</td>\n",
       "      <td>2.108232</td>\n",
       "      <td>3.543768</td>\n",
       "      <td>1.429079</td>\n",
       "    </tr>\n",
       "    <tr>\n",
       "      <th>26</th>\n",
       "      <td>3.634141</td>\n",
       "      <td>2.493440</td>\n",
       "      <td>0.063285</td>\n",
       "      <td>3.717749</td>\n",
       "    </tr>\n",
       "    <tr>\n",
       "      <th>27</th>\n",
       "      <td>2.763588</td>\n",
       "      <td>3.989291</td>\n",
       "      <td>0.689362</td>\n",
       "      <td>0.548543</td>\n",
       "    </tr>\n",
       "    <tr>\n",
       "      <th>28</th>\n",
       "      <td>3.730382</td>\n",
       "      <td>2.787273</td>\n",
       "      <td>0.264001</td>\n",
       "      <td>3.021852</td>\n",
       "    </tr>\n",
       "    <tr>\n",
       "      <th>29</th>\n",
       "      <td>3.015505</td>\n",
       "      <td>3.692098</td>\n",
       "      <td>2.846099</td>\n",
       "      <td>0.497084</td>\n",
       "    </tr>\n",
       "  </tbody>\n",
       "</table>\n",
       "</div>"
      ],
      "text/plain": [
       "      y1_gpa    y2_gpa    y3_gpa    y4_gpa\n",
       "0   1.668088  2.881298  0.000457  1.209330\n",
       "1   0.587024  0.369354  0.745041  1.382243\n",
       "2   1.587070  2.155267  1.676778  2.740878\n",
       "3   0.817809  3.512470  0.109550  2.681870\n",
       "4   1.669219  2.234759  0.561548  0.792406\n",
       "5   3.202978  3.873046  1.253697  2.769290\n",
       "6   3.505557  3.578427  0.340177  0.156219\n",
       "7   0.679322  3.512570  0.393387  1.684431\n",
       "8   3.831558  2.132661  2.767508  1.262063\n",
       "9   2.746004  3.338503  0.073153  3.000577\n",
       "10  3.955444  2.992663  1.121776  3.157117\n",
       "11  0.412904  1.791574  3.634382  1.174457\n",
       "12  1.151101  0.520114  0.077468  2.715342\n",
       "13  0.846512  1.062187  1.966293  0.213450\n",
       "14  2.296470  0.586914  2.357222  2.799033\n",
       "15  0.409338  1.656224  2.777601  1.656717\n",
       "16  0.199814  2.143586  2.655179  2.059556\n",
       "17  3.778379  2.346220  3.613608  0.549899\n",
       "18  0.557105  3.229565  1.590707  0.661417\n",
       "19  3.710034  1.391063  3.003248  2.903992\n",
       "20  3.533224  2.494689  3.003770  1.395593\n",
       "21  1.079712  3.583545  1.712365  3.859360\n",
       "22  2.653766  2.486783  0.458984  3.797957\n",
       "23  1.799649  2.313558  1.632547  0.948108\n",
       "24  3.613518  2.294718  0.011481  2.468580\n",
       "25  1.306580  2.108232  3.543768  1.429079\n",
       "26  3.634141  2.493440  0.063285  3.717749\n",
       "27  2.763588  3.989291  0.689362  0.548543\n",
       "28  3.730382  2.787273  0.264001  3.021852\n",
       "29  3.015505  3.692098  2.846099  0.497084"
      ]
     },
     "execution_count": 45,
     "metadata": {},
     "output_type": "execute_result"
    }
   ],
   "source": [
    "# creating the example df\n",
    "\n",
    "np.random.seed(1)\n",
    "df = pd.DataFrame(\n",
    "    data=np.random.uniform(0, 4, size=(30, 4)),\n",
    "    columns=['y1_gpa', 'y2_gpa', 'y3_gpa', 'y4_gpa']\n",
    ")\n",
    "df"
   ]
  },
  {
   "cell_type": "code",
   "execution_count": 48,
   "id": "b2af8430",
   "metadata": {},
   "outputs": [],
   "source": [
    "# repeating code like this is not ideal for production\n",
    "\n",
    "df['y1_z'] = (df['y1_gpa'] - df['y1_gpa'].mean()) / df['y1_gpa'].std()\n",
    "df['y2_z'] = (df['y2_gpa'] - df['y2_gpa'].mean()) / df['y2_gpa'].std()\n",
    "df['y3_z'] = (df['y3_gpa'] - df['y3_gpa'].mean()) / df['y3_gpa'].std()\n",
    "df['y4_z'] = (df['y4_gpa'] - df['y4_gpa'].mean()) / df['y4_gpa'].std()\n",
    "\n",
    "\n",
    "# instead, wrap that logic in a function and call the function\n",
    "\n",
    "def standardize(series):\n",
    "    ''' Standardizes the values of a column by providing the z-score.\n",
    "    Args:\n",
    "        series(pandas Series): The data to standardize\n",
    "        \n",
    "    Returns:\n",
    "        pandas Series: the values as z-scores\n",
    "    '''\n",
    "    z_score = (series - series.mean()) / series.std()\n",
    "    return z_score\n",
    "\n",
    "years_z = ['y1_z', 'y2_z', 'y3_z', 'y4_z']\n",
    "\n",
    "for i, col in zip(years_z, df):\n",
    "    df[i] = standardize(df[col])\n",
    "    \n",
    "    \n",
    "    \n",
    "# alternative for better readability, but does repeat yourself:\n",
    "# df['y1_z'] = standardize(df['y1_gpa'])\n",
    "# df['y2_z'] = standardize(df['y2_gpa'])\n",
    "# df['y3_z'] = standardize(df['y3_gpa'])\n",
    "# df['y4_z'] = standardize(df['y4_gpa'])\n"
   ]
  },
  {
   "cell_type": "code",
   "execution_count": 49,
   "id": "a6b87cb2",
   "metadata": {
    "scrolled": true
   },
   "outputs": [
    {
     "data": {
      "text/html": [
       "<div>\n",
       "<style scoped>\n",
       "    .dataframe tbody tr th:only-of-type {\n",
       "        vertical-align: middle;\n",
       "    }\n",
       "\n",
       "    .dataframe tbody tr th {\n",
       "        vertical-align: top;\n",
       "    }\n",
       "\n",
       "    .dataframe thead th {\n",
       "        text-align: right;\n",
       "    }\n",
       "</style>\n",
       "<table border=\"1\" class=\"dataframe\">\n",
       "  <thead>\n",
       "    <tr style=\"text-align: right;\">\n",
       "      <th></th>\n",
       "      <th>y1_gpa</th>\n",
       "      <th>y2_gpa</th>\n",
       "      <th>y3_gpa</th>\n",
       "      <th>y4_gpa</th>\n",
       "      <th>y1_z</th>\n",
       "      <th>y2_z</th>\n",
       "      <th>y3_z</th>\n",
       "      <th>y4_z</th>\n",
       "    </tr>\n",
       "  </thead>\n",
       "  <tbody>\n",
       "    <tr>\n",
       "      <th>0</th>\n",
       "      <td>1.668088</td>\n",
       "      <td>2.881298</td>\n",
       "      <td>0.000457</td>\n",
       "      <td>1.209330</td>\n",
       "      <td>-0.377504</td>\n",
       "      <td>0.430425</td>\n",
       "      <td>-1.199980</td>\n",
       "      <td>-0.617900</td>\n",
       "    </tr>\n",
       "    <tr>\n",
       "      <th>1</th>\n",
       "      <td>0.587024</td>\n",
       "      <td>0.369354</td>\n",
       "      <td>0.745041</td>\n",
       "      <td>1.382243</td>\n",
       "      <td>-1.210421</td>\n",
       "      <td>-2.086570</td>\n",
       "      <td>-0.603405</td>\n",
       "      <td>-0.465081</td>\n",
       "    </tr>\n",
       "    <tr>\n",
       "      <th>2</th>\n",
       "      <td>1.587070</td>\n",
       "      <td>2.155267</td>\n",
       "      <td>1.676778</td>\n",
       "      <td>2.740878</td>\n",
       "      <td>-0.439925</td>\n",
       "      <td>-0.297066</td>\n",
       "      <td>0.143122</td>\n",
       "      <td>0.735677</td>\n",
       "    </tr>\n",
       "    <tr>\n",
       "      <th>3</th>\n",
       "      <td>0.817809</td>\n",
       "      <td>3.512470</td>\n",
       "      <td>0.109550</td>\n",
       "      <td>2.681870</td>\n",
       "      <td>-1.032610</td>\n",
       "      <td>1.062866</td>\n",
       "      <td>-1.112573</td>\n",
       "      <td>0.683526</td>\n",
       "    </tr>\n",
       "    <tr>\n",
       "      <th>4</th>\n",
       "      <td>1.669219</td>\n",
       "      <td>2.234759</td>\n",
       "      <td>0.561548</td>\n",
       "      <td>0.792406</td>\n",
       "      <td>-0.376632</td>\n",
       "      <td>-0.217413</td>\n",
       "      <td>-0.750423</td>\n",
       "      <td>-0.986377</td>\n",
       "    </tr>\n",
       "    <tr>\n",
       "      <th>5</th>\n",
       "      <td>3.202978</td>\n",
       "      <td>3.873046</td>\n",
       "      <td>1.253697</td>\n",
       "      <td>2.769290</td>\n",
       "      <td>0.805068</td>\n",
       "      <td>1.424168</td>\n",
       "      <td>-0.195859</td>\n",
       "      <td>0.760788</td>\n",
       "    </tr>\n",
       "    <tr>\n",
       "      <th>6</th>\n",
       "      <td>3.505557</td>\n",
       "      <td>3.578427</td>\n",
       "      <td>0.340177</td>\n",
       "      <td>0.156219</td>\n",
       "      <td>1.038193</td>\n",
       "      <td>1.128956</td>\n",
       "      <td>-0.927790</td>\n",
       "      <td>-1.548636</td>\n",
       "    </tr>\n",
       "    <tr>\n",
       "      <th>7</th>\n",
       "      <td>0.679322</td>\n",
       "      <td>3.512570</td>\n",
       "      <td>0.393387</td>\n",
       "      <td>1.684431</td>\n",
       "      <td>-1.139309</td>\n",
       "      <td>1.062967</td>\n",
       "      <td>-0.885157</td>\n",
       "      <td>-0.198008</td>\n",
       "    </tr>\n",
       "    <tr>\n",
       "      <th>8</th>\n",
       "      <td>3.831558</td>\n",
       "      <td>2.132661</td>\n",
       "      <td>2.767508</td>\n",
       "      <td>1.262063</td>\n",
       "      <td>1.289364</td>\n",
       "      <td>-0.319717</td>\n",
       "      <td>1.017038</td>\n",
       "      <td>-0.571296</td>\n",
       "    </tr>\n",
       "    <tr>\n",
       "      <th>9</th>\n",
       "      <td>2.746004</td>\n",
       "      <td>3.338503</td>\n",
       "      <td>0.073153</td>\n",
       "      <td>3.000577</td>\n",
       "      <td>0.452987</td>\n",
       "      <td>0.888549</td>\n",
       "      <td>-1.141735</td>\n",
       "      <td>0.965198</td>\n",
       "    </tr>\n",
       "    <tr>\n",
       "      <th>10</th>\n",
       "      <td>3.955444</td>\n",
       "      <td>2.992663</td>\n",
       "      <td>1.121776</td>\n",
       "      <td>3.157117</td>\n",
       "      <td>1.384813</td>\n",
       "      <td>0.542014</td>\n",
       "      <td>-0.301557</td>\n",
       "      <td>1.103548</td>\n",
       "    </tr>\n",
       "    <tr>\n",
       "      <th>11</th>\n",
       "      <td>0.412904</td>\n",
       "      <td>1.791574</td>\n",
       "      <td>3.634382</td>\n",
       "      <td>1.174457</td>\n",
       "      <td>-1.344573</td>\n",
       "      <td>-0.661490</td>\n",
       "      <td>1.711594</td>\n",
       "      <td>-0.648721</td>\n",
       "    </tr>\n",
       "    <tr>\n",
       "      <th>12</th>\n",
       "      <td>1.151101</td>\n",
       "      <td>0.520114</td>\n",
       "      <td>0.077468</td>\n",
       "      <td>2.715342</td>\n",
       "      <td>-0.775821</td>\n",
       "      <td>-1.935506</td>\n",
       "      <td>-1.138278</td>\n",
       "      <td>0.713108</td>\n",
       "    </tr>\n",
       "    <tr>\n",
       "      <th>13</th>\n",
       "      <td>0.846512</td>\n",
       "      <td>1.062187</td>\n",
       "      <td>1.966293</td>\n",
       "      <td>0.213450</td>\n",
       "      <td>-1.010495</td>\n",
       "      <td>-1.392344</td>\n",
       "      <td>0.375087</td>\n",
       "      <td>-1.498056</td>\n",
       "    </tr>\n",
       "    <tr>\n",
       "      <th>14</th>\n",
       "      <td>2.296470</td>\n",
       "      <td>0.586914</td>\n",
       "      <td>2.357222</td>\n",
       "      <td>2.799033</td>\n",
       "      <td>0.106640</td>\n",
       "      <td>-1.868572</td>\n",
       "      <td>0.688308</td>\n",
       "      <td>0.787074</td>\n",
       "    </tr>\n",
       "    <tr>\n",
       "      <th>15</th>\n",
       "      <td>0.409338</td>\n",
       "      <td>1.656224</td>\n",
       "      <td>2.777601</td>\n",
       "      <td>1.656717</td>\n",
       "      <td>-1.347321</td>\n",
       "      <td>-0.797112</td>\n",
       "      <td>1.025124</td>\n",
       "      <td>-0.222501</td>\n",
       "    </tr>\n",
       "    <tr>\n",
       "      <th>16</th>\n",
       "      <td>0.199814</td>\n",
       "      <td>2.143586</td>\n",
       "      <td>2.655179</td>\n",
       "      <td>2.059556</td>\n",
       "      <td>-1.508751</td>\n",
       "      <td>-0.308770</td>\n",
       "      <td>0.927037</td>\n",
       "      <td>0.133527</td>\n",
       "    </tr>\n",
       "    <tr>\n",
       "      <th>17</th>\n",
       "      <td>3.778379</td>\n",
       "      <td>2.346220</td>\n",
       "      <td>3.613608</td>\n",
       "      <td>0.549899</td>\n",
       "      <td>1.248392</td>\n",
       "      <td>-0.105728</td>\n",
       "      <td>1.694950</td>\n",
       "      <td>-1.200704</td>\n",
       "    </tr>\n",
       "    <tr>\n",
       "      <th>18</th>\n",
       "      <td>0.557105</td>\n",
       "      <td>3.229565</td>\n",
       "      <td>1.590707</td>\n",
       "      <td>0.661417</td>\n",
       "      <td>-1.233472</td>\n",
       "      <td>0.779393</td>\n",
       "      <td>0.074160</td>\n",
       "      <td>-1.102144</td>\n",
       "    </tr>\n",
       "    <tr>\n",
       "      <th>19</th>\n",
       "      <td>3.710034</td>\n",
       "      <td>1.391063</td>\n",
       "      <td>3.003248</td>\n",
       "      <td>2.903992</td>\n",
       "      <td>1.195735</td>\n",
       "      <td>-1.062806</td>\n",
       "      <td>1.205917</td>\n",
       "      <td>0.879836</td>\n",
       "    </tr>\n",
       "    <tr>\n",
       "      <th>20</th>\n",
       "      <td>3.533224</td>\n",
       "      <td>2.494689</td>\n",
       "      <td>3.003770</td>\n",
       "      <td>1.395593</td>\n",
       "      <td>1.059510</td>\n",
       "      <td>0.043039</td>\n",
       "      <td>1.206335</td>\n",
       "      <td>-0.453281</td>\n",
       "    </tr>\n",
       "    <tr>\n",
       "      <th>21</th>\n",
       "      <td>1.079712</td>\n",
       "      <td>3.583545</td>\n",
       "      <td>1.712365</td>\n",
       "      <td>3.859360</td>\n",
       "      <td>-0.830824</td>\n",
       "      <td>1.134084</td>\n",
       "      <td>0.171635</td>\n",
       "      <td>1.724188</td>\n",
       "    </tr>\n",
       "    <tr>\n",
       "      <th>22</th>\n",
       "      <td>2.653766</td>\n",
       "      <td>2.486783</td>\n",
       "      <td>0.458984</td>\n",
       "      <td>3.797957</td>\n",
       "      <td>0.381922</td>\n",
       "      <td>0.035117</td>\n",
       "      <td>-0.832600</td>\n",
       "      <td>1.669920</td>\n",
       "    </tr>\n",
       "    <tr>\n",
       "      <th>23</th>\n",
       "      <td>1.799649</td>\n",
       "      <td>2.313558</td>\n",
       "      <td>1.632547</td>\n",
       "      <td>0.948108</td>\n",
       "      <td>-0.276142</td>\n",
       "      <td>-0.138456</td>\n",
       "      <td>0.107683</td>\n",
       "      <td>-0.848768</td>\n",
       "    </tr>\n",
       "    <tr>\n",
       "      <th>24</th>\n",
       "      <td>3.613518</td>\n",
       "      <td>2.294718</td>\n",
       "      <td>0.011481</td>\n",
       "      <td>2.468580</td>\n",
       "      <td>1.121373</td>\n",
       "      <td>-0.157334</td>\n",
       "      <td>-1.191148</td>\n",
       "      <td>0.495020</td>\n",
       "    </tr>\n",
       "    <tr>\n",
       "      <th>25</th>\n",
       "      <td>1.306580</td>\n",
       "      <td>2.108232</td>\n",
       "      <td>3.543768</td>\n",
       "      <td>1.429079</td>\n",
       "      <td>-0.656032</td>\n",
       "      <td>-0.344195</td>\n",
       "      <td>1.638993</td>\n",
       "      <td>-0.423687</td>\n",
       "    </tr>\n",
       "    <tr>\n",
       "      <th>26</th>\n",
       "      <td>3.634141</td>\n",
       "      <td>2.493440</td>\n",
       "      <td>0.063285</td>\n",
       "      <td>3.717749</td>\n",
       "      <td>1.137262</td>\n",
       "      <td>0.041788</td>\n",
       "      <td>-1.149642</td>\n",
       "      <td>1.599032</td>\n",
       "    </tr>\n",
       "    <tr>\n",
       "      <th>27</th>\n",
       "      <td>2.763588</td>\n",
       "      <td>3.989291</td>\n",
       "      <td>0.689362</td>\n",
       "      <td>0.548543</td>\n",
       "      <td>0.466535</td>\n",
       "      <td>1.540647</td>\n",
       "      <td>-0.648016</td>\n",
       "      <td>-1.201902</td>\n",
       "    </tr>\n",
       "    <tr>\n",
       "      <th>28</th>\n",
       "      <td>3.730382</td>\n",
       "      <td>2.787273</td>\n",
       "      <td>0.264001</td>\n",
       "      <td>3.021852</td>\n",
       "      <td>1.211412</td>\n",
       "      <td>0.336211</td>\n",
       "      <td>-0.988824</td>\n",
       "      <td>0.984001</td>\n",
       "    </tr>\n",
       "    <tr>\n",
       "      <th>29</th>\n",
       "      <td>3.015505</td>\n",
       "      <td>3.692098</td>\n",
       "      <td>2.846099</td>\n",
       "      <td>0.497084</td>\n",
       "      <td>0.660627</td>\n",
       "      <td>1.242856</td>\n",
       "      <td>1.080006</td>\n",
       "      <td>-1.247381</td>\n",
       "    </tr>\n",
       "  </tbody>\n",
       "</table>\n",
       "</div>"
      ],
      "text/plain": [
       "      y1_gpa    y2_gpa    y3_gpa    y4_gpa      y1_z      y2_z      y3_z  \\\n",
       "0   1.668088  2.881298  0.000457  1.209330 -0.377504  0.430425 -1.199980   \n",
       "1   0.587024  0.369354  0.745041  1.382243 -1.210421 -2.086570 -0.603405   \n",
       "2   1.587070  2.155267  1.676778  2.740878 -0.439925 -0.297066  0.143122   \n",
       "3   0.817809  3.512470  0.109550  2.681870 -1.032610  1.062866 -1.112573   \n",
       "4   1.669219  2.234759  0.561548  0.792406 -0.376632 -0.217413 -0.750423   \n",
       "5   3.202978  3.873046  1.253697  2.769290  0.805068  1.424168 -0.195859   \n",
       "6   3.505557  3.578427  0.340177  0.156219  1.038193  1.128956 -0.927790   \n",
       "7   0.679322  3.512570  0.393387  1.684431 -1.139309  1.062967 -0.885157   \n",
       "8   3.831558  2.132661  2.767508  1.262063  1.289364 -0.319717  1.017038   \n",
       "9   2.746004  3.338503  0.073153  3.000577  0.452987  0.888549 -1.141735   \n",
       "10  3.955444  2.992663  1.121776  3.157117  1.384813  0.542014 -0.301557   \n",
       "11  0.412904  1.791574  3.634382  1.174457 -1.344573 -0.661490  1.711594   \n",
       "12  1.151101  0.520114  0.077468  2.715342 -0.775821 -1.935506 -1.138278   \n",
       "13  0.846512  1.062187  1.966293  0.213450 -1.010495 -1.392344  0.375087   \n",
       "14  2.296470  0.586914  2.357222  2.799033  0.106640 -1.868572  0.688308   \n",
       "15  0.409338  1.656224  2.777601  1.656717 -1.347321 -0.797112  1.025124   \n",
       "16  0.199814  2.143586  2.655179  2.059556 -1.508751 -0.308770  0.927037   \n",
       "17  3.778379  2.346220  3.613608  0.549899  1.248392 -0.105728  1.694950   \n",
       "18  0.557105  3.229565  1.590707  0.661417 -1.233472  0.779393  0.074160   \n",
       "19  3.710034  1.391063  3.003248  2.903992  1.195735 -1.062806  1.205917   \n",
       "20  3.533224  2.494689  3.003770  1.395593  1.059510  0.043039  1.206335   \n",
       "21  1.079712  3.583545  1.712365  3.859360 -0.830824  1.134084  0.171635   \n",
       "22  2.653766  2.486783  0.458984  3.797957  0.381922  0.035117 -0.832600   \n",
       "23  1.799649  2.313558  1.632547  0.948108 -0.276142 -0.138456  0.107683   \n",
       "24  3.613518  2.294718  0.011481  2.468580  1.121373 -0.157334 -1.191148   \n",
       "25  1.306580  2.108232  3.543768  1.429079 -0.656032 -0.344195  1.638993   \n",
       "26  3.634141  2.493440  0.063285  3.717749  1.137262  0.041788 -1.149642   \n",
       "27  2.763588  3.989291  0.689362  0.548543  0.466535  1.540647 -0.648016   \n",
       "28  3.730382  2.787273  0.264001  3.021852  1.211412  0.336211 -0.988824   \n",
       "29  3.015505  3.692098  2.846099  0.497084  0.660627  1.242856  1.080006   \n",
       "\n",
       "        y4_z  \n",
       "0  -0.617900  \n",
       "1  -0.465081  \n",
       "2   0.735677  \n",
       "3   0.683526  \n",
       "4  -0.986377  \n",
       "5   0.760788  \n",
       "6  -1.548636  \n",
       "7  -0.198008  \n",
       "8  -0.571296  \n",
       "9   0.965198  \n",
       "10  1.103548  \n",
       "11 -0.648721  \n",
       "12  0.713108  \n",
       "13 -1.498056  \n",
       "14  0.787074  \n",
       "15 -0.222501  \n",
       "16  0.133527  \n",
       "17 -1.200704  \n",
       "18 -1.102144  \n",
       "19  0.879836  \n",
       "20 -0.453281  \n",
       "21  1.724188  \n",
       "22  1.669920  \n",
       "23 -0.848768  \n",
       "24  0.495020  \n",
       "25 -0.423687  \n",
       "26  1.599032  \n",
       "27 -1.201902  \n",
       "28  0.984001  \n",
       "29 -1.247381  "
      ]
     },
     "execution_count": 49,
     "metadata": {},
     "output_type": "execute_result"
    }
   ],
   "source": [
    "df"
   ]
  },
  {
   "cell_type": "markdown",
   "id": "301de01e",
   "metadata": {},
   "source": [
    "## DOT"
   ]
  },
  {
   "cell_type": "markdown",
   "id": "2d60018a",
   "metadata": {},
   "source": [
    "The function below accomplishes two goals. It's better to separate out the goals between multiple functions in order to make the code more flexible and testable.  "
   ]
  },
  {
   "cell_type": "code",
   "execution_count": 56,
   "id": "f6d50d76",
   "metadata": {},
   "outputs": [
    {
     "name": "stdout",
     "output_type": "stream",
     "text": [
      "2.0 2.5\n"
     ]
    }
   ],
   "source": [
    "# Initial function\n",
    "def mean_and_median(values):\n",
    "    \"\"\"Gets the mean and median of a list of `values`\n",
    "\n",
    "    Args:\n",
    "      values (iterable of float): A list of numbers\n",
    "\n",
    "    Returns:\n",
    "      tuple (float, float): The mean and median\n",
    "    \"\"\"\n",
    "    mean = sum(values) / len(values)\n",
    "    midpoint = int(len(values) / 2)\n",
    "    if len(values) % 2 == 0:\n",
    "        median = (values[midpoint - 1] + values[midpoint]) / 2\n",
    "    else:\n",
    "        median = values[midpoint]\n",
    "\n",
    "    return mean, median\n",
    "\n",
    "\n",
    "# Breaking the function into two separate functions\n",
    "def find_mean(values):\n",
    "    '''Finds the mean of a list of values.\n",
    "    \n",
    "    Args:\n",
    "        values(iterable of float): A list of numbers\n",
    "        \n",
    "    Returns:\n",
    "        float \n",
    "    '''\n",
    "    \n",
    "    mean = sum(values) / len(values)\n",
    "    return mean \n",
    "\n",
    "def find_median(values):\n",
    "    '''Finds the median of a list of values.\n",
    "    \n",
    "    Args:\n",
    "        values(iterable of float): A list of numbers.\n",
    "    \n",
    "    Returns:\n",
    "        float\n",
    "    \n",
    "    If the total number of values is odd, then the median will be a float.\n",
    "    Otherwise, the median returned will be an int. \n",
    "    '''\n",
    "    \n",
    "    midpoint = int(len(values) / 2)\n",
    "    if len(values) % 2 == 0:\n",
    "        median = (values[midpoint - 1] + values[midpoint]) / 2\n",
    "    else:\n",
    "        median = values[midpoint]\n",
    "    \n",
    "    return median\n",
    "\n",
    "list_mean = find_mean([1, 2, 3])\n",
    "list_median = find_median([1, 2, 3, 4])\n",
    "\n",
    "print(list_mean, list_median)"
   ]
  },
  {
   "cell_type": "markdown",
   "id": "7bf1c6b1",
   "metadata": {},
   "source": [
    "## Mutability"
   ]
  },
  {
   "cell_type": "markdown",
   "id": "48593629",
   "metadata": {},
   "source": [
    "When writing functions, it helps to know which data types are not changable (immutable) and which are (mutable).\n",
    "\n",
    "- Immutable:\n",
    " - int\n",
    " - float\n",
    " - bool\n",
    " - string\n",
    " - bytes\n",
    " - tuple\n",
    " - frozenset\n",
    "\n",
    "\n",
    "- Mutable:\n",
    " - list\n",
    " - dict\n",
    " - set\n",
    " - bytearray\n",
    " - object\n",
    " - functions\n",
    " - everything else"
   ]
  },
  {
   "cell_type": "markdown",
   "id": "37563b5f",
   "metadata": {},
   "source": [
    "Below is an example of how providing a mutable data type as a default argument can get you into trouble."
   ]
  },
  {
   "cell_type": "code",
   "execution_count": 57,
   "id": "f87d64f5",
   "metadata": {},
   "outputs": [
    {
     "name": "stdout",
     "output_type": "stream",
     "text": [
      "[1]\n",
      "[1, 1]\n",
      "[1, 1, 1]\n"
     ]
    }
   ],
   "source": [
    "def foo(var=[]):\n",
    "    var.append(1)\n",
    "    return var\n",
    "\n",
    "print(foo())\n",
    "print(foo())\n",
    "print(foo())"
   ]
  },
  {
   "cell_type": "markdown",
   "id": "781c03a9",
   "metadata": {},
   "source": [
    "Instead, declare a None type as the default argument and account for that in the body of the function:"
   ]
  },
  {
   "cell_type": "code",
   "execution_count": 58,
   "id": "983878d3",
   "metadata": {},
   "outputs": [
    {
     "name": "stdout",
     "output_type": "stream",
     "text": [
      "[1]\n",
      "[1]\n",
      "[1]\n"
     ]
    }
   ],
   "source": [
    "def foo(var=None):\n",
    "    if var is None:\n",
    "        var = []\n",
    "    var.append(1)\n",
    "    return var\n",
    "\n",
    "print(foo())\n",
    "print(foo())\n",
    "print(foo())"
   ]
  },
  {
   "cell_type": "markdown",
   "id": "c98dd29b",
   "metadata": {},
   "source": [
    "# Context Managers"
   ]
  },
  {
   "cell_type": "markdown",
   "id": "f40ff830",
   "metadata": {},
   "source": [
    "Context managers allow code to be run in the context of a certain environment, and when the code is done running, the context manager removes that environment.\n",
    "\n",
    "Below is an example of creating a context manager, during which the variable `message` is created. You can immediately tell that it's a context manager because of the word \"with\". \n",
    "\n",
    "It's common to refer to the output of that open() function as a variable itself, to play with inside the context manager.\n"
   ]
  },
  {
   "cell_type": "code",
   "execution_count": 59,
   "id": "06d910d1",
   "metadata": {},
   "outputs": [
    {
     "name": "stdout",
     "output_type": "stream",
     "text": [
      "nice text file you got there, man\n",
      "\n"
     ]
    }
   ],
   "source": [
    "with open('texty.txt') as file:\n",
    "    message = file.read()\n",
    "\n",
    "print(message)"
   ]
  },
  {
   "cell_type": "markdown",
   "id": "da89680e",
   "metadata": {},
   "source": [
    "We can go on to use this `message` variable in future code:"
   ]
  },
  {
   "cell_type": "code",
   "execution_count": 62,
   "id": "66583c58",
   "metadata": {},
   "outputs": [
    {
     "name": "stdout",
     "output_type": "stream",
     "text": [
      "the letter e was used in that message 5 times.\n"
     ]
    }
   ],
   "source": [
    "n = 0 \n",
    "for character in message:\n",
    "    if character == 'e':\n",
    "        n += 1\n",
    "    \n",
    "print('the letter e was used in that message {} times.'.format(n))    "
   ]
  },
  {
   "cell_type": "markdown",
   "id": "ef6a75d3",
   "metadata": {},
   "source": [
    "## Defining context managers for other people to use"
   ]
  },
  {
   "cell_type": "markdown",
   "id": "d04b99ff",
   "metadata": {},
   "source": [
    "To make a context manager, do the following:\n",
    " - import the contextlib library\n",
    " - use a decorator in which you use the contextmanager module\n",
    " - create a function with the name of your context manager you'd like to build\n",
    " - whatever code you'd like to be the context \n",
    " - use a yield keyword (which is a generator) which may or may not be a specific value (the example below is not a specific value)\n",
    " - any additional context you need to tear down\n",
    "\n",
    "Then, to use a context manager, follow like above, using the with keyword. "
   ]
  },
  {
   "cell_type": "markdown",
   "id": "b56c081f",
   "metadata": {},
   "source": [
    "The code below does three things:\n",
    " 1. creates a context manager\n",
    " 2. creates an exponent function with which to test the context manager\n",
    " 3. uses the context manager to time how long running the exponent function took "
   ]
  },
  {
   "cell_type": "code",
   "execution_count": 204,
   "id": "6a7fa1b2",
   "metadata": {},
   "outputs": [
    {
     "name": "stdout",
     "output_type": "stream",
     "text": [
      "90908590909924242424241424242424243424242424241924242424242500000\n",
      "Elapsed: 0.47s\n"
     ]
    }
   ],
   "source": [
    "# a necessary import for creating the context manager\n",
    "import contextlib\n",
    "\n",
    "# a library needed for the specific purpose of this particular context manager\n",
    "import time\n",
    "\n",
    "# creating the context manager\n",
    "@contextlib.contextmanager\n",
    "def timer():\n",
    "    ''' Times how long something takes to compute\n",
    "    Args:\n",
    "        None\n",
    "    \n",
    "    Returns:\n",
    "        A print statement saying how long the computation took\n",
    "    '''\n",
    "    \n",
    "    start = time.time()\n",
    "    yield \n",
    "    end = time.time()\n",
    "    print('Elapsed: {:.2f}s'.format(end - start))\n",
    "    \n",
    "# a function with which to test the context manager\n",
    "def exponent(x, y):\n",
    "    '''Raises x to the y power.\n",
    "    Args:\n",
    "        x (int): the number to be raised\n",
    "        y (int): the power to be raised by\n",
    "        \n",
    "    Returns:\n",
    "        int\n",
    "    '''\n",
    "    \n",
    "    return x**y\n",
    "    \n",
    "# using the context manager\n",
    "with timer():\n",
    "    count = 0\n",
    "    for i in range(1, 1000000):\n",
    "        count += exponent(i, 10)\n",
    "    print(count)"
   ]
  },
  {
   "cell_type": "markdown",
   "id": "148ade3d",
   "metadata": {},
   "source": [
    "The main purpose of a context generator is to provide access to variables and information that would otherwise usually get destroyed outside the local scope of a normal function. \n",
    "\n",
    "By using the yield keyword, the function can yield control and know that it gets to finish running later. "
   ]
  },
  {
   "cell_type": "markdown",
   "id": "d2368a3b",
   "metadata": {},
   "source": [
    "for additional reading, you can learn about these topics:\n",
    "1. [generators](https://docs.python.org/3/howto/functional.html#generators)\n",
    "2. [decorators](https://docs.python.org/3/library/contextlib.html#contextlib.contextmanager)\n",
    "3. [contextlib](https://docs.python.org/3/library/contextlib.html)"
   ]
  },
  {
   "cell_type": "markdown",
   "id": "aae5823c",
   "metadata": {},
   "source": [
    "### context manager example"
   ]
  },
  {
   "cell_type": "markdown",
   "id": "a786f4dc",
   "metadata": {},
   "source": [
    "This context manager accesses a database. After it connects to a database using the setup code, and once it gets control back after yielding, it uses the teardown section to disconnect from the database.\n",
    "\n",
    "Overall this allows the programmer to perform operations on the database without worrying about the underlying details. "
   ]
  },
  {
   "cell_type": "code",
   "execution_count": 67,
   "id": "8a015134",
   "metadata": {
    "scrolled": true
   },
   "outputs": [
    {
     "ename": "NameError",
     "evalue": "name 'postgres' is not defined",
     "output_type": "error",
     "traceback": [
      "\u001b[0;31m---------------------------------------------------------------------------\u001b[0m",
      "\u001b[0;31mNameError\u001b[0m                                 Traceback (most recent call last)",
      "\u001b[0;32m<ipython-input-67-c16ccbe518ad>\u001b[0m in \u001b[0;36m<module>\u001b[0;34m\u001b[0m\n\u001b[1;32m      9\u001b[0m \u001b[0murl\u001b[0m \u001b[0;34m=\u001b[0m \u001b[0;34m'http://dataquest.io/mydata'\u001b[0m\u001b[0;34m\u001b[0m\u001b[0;34m\u001b[0m\u001b[0m\n\u001b[1;32m     10\u001b[0m \u001b[0;34m\u001b[0m\u001b[0m\n\u001b[0;32m---> 11\u001b[0;31m \u001b[0;32mwith\u001b[0m \u001b[0mdatabase\u001b[0m\u001b[0;34m(\u001b[0m\u001b[0murl\u001b[0m\u001b[0;34m)\u001b[0m \u001b[0;32mas\u001b[0m \u001b[0mmy_db\u001b[0m\u001b[0;34m:\u001b[0m\u001b[0;34m\u001b[0m\u001b[0;34m\u001b[0m\u001b[0m\n\u001b[0m\u001b[1;32m     12\u001b[0m     course_list = my_db.execute(\n\u001b[1;32m     13\u001b[0m         \u001b[0;34m'SELECT * FROM courses'\u001b[0m\u001b[0;34m\u001b[0m\u001b[0;34m\u001b[0m\u001b[0m\n",
      "\u001b[0;32m~/opt/miniconda3/envs/minimal_ds/lib/python3.9/contextlib.py\u001b[0m in \u001b[0;36m__enter__\u001b[0;34m(self)\u001b[0m\n\u001b[1;32m    115\u001b[0m         \u001b[0;32mdel\u001b[0m \u001b[0mself\u001b[0m\u001b[0;34m.\u001b[0m\u001b[0margs\u001b[0m\u001b[0;34m,\u001b[0m \u001b[0mself\u001b[0m\u001b[0;34m.\u001b[0m\u001b[0mkwds\u001b[0m\u001b[0;34m,\u001b[0m \u001b[0mself\u001b[0m\u001b[0;34m.\u001b[0m\u001b[0mfunc\u001b[0m\u001b[0;34m\u001b[0m\u001b[0;34m\u001b[0m\u001b[0m\n\u001b[1;32m    116\u001b[0m         \u001b[0;32mtry\u001b[0m\u001b[0;34m:\u001b[0m\u001b[0;34m\u001b[0m\u001b[0;34m\u001b[0m\u001b[0m\n\u001b[0;32m--> 117\u001b[0;31m             \u001b[0;32mreturn\u001b[0m \u001b[0mnext\u001b[0m\u001b[0;34m(\u001b[0m\u001b[0mself\u001b[0m\u001b[0;34m.\u001b[0m\u001b[0mgen\u001b[0m\u001b[0;34m)\u001b[0m\u001b[0;34m\u001b[0m\u001b[0;34m\u001b[0m\u001b[0m\n\u001b[0m\u001b[1;32m    118\u001b[0m         \u001b[0;32mexcept\u001b[0m \u001b[0mStopIteration\u001b[0m\u001b[0;34m:\u001b[0m\u001b[0;34m\u001b[0m\u001b[0;34m\u001b[0m\u001b[0m\n\u001b[1;32m    119\u001b[0m             \u001b[0;32mraise\u001b[0m \u001b[0mRuntimeError\u001b[0m\u001b[0;34m(\u001b[0m\u001b[0;34m\"generator didn't yield\"\u001b[0m\u001b[0;34m)\u001b[0m \u001b[0;32mfrom\u001b[0m \u001b[0;32mNone\u001b[0m\u001b[0;34m\u001b[0m\u001b[0;34m\u001b[0m\u001b[0m\n",
      "\u001b[0;32m<ipython-input-67-c16ccbe518ad>\u001b[0m in \u001b[0;36mdatabase\u001b[0;34m(url)\u001b[0m\n\u001b[1;32m      1\u001b[0m \u001b[0;34m@\u001b[0m\u001b[0mcontextlib\u001b[0m\u001b[0;34m.\u001b[0m\u001b[0mcontextmanager\u001b[0m\u001b[0;34m\u001b[0m\u001b[0;34m\u001b[0m\u001b[0m\n\u001b[1;32m      2\u001b[0m \u001b[0;32mdef\u001b[0m \u001b[0mdatabase\u001b[0m\u001b[0;34m(\u001b[0m\u001b[0murl\u001b[0m\u001b[0;34m)\u001b[0m\u001b[0;34m:\u001b[0m\u001b[0;34m\u001b[0m\u001b[0;34m\u001b[0m\u001b[0m\n\u001b[0;32m----> 3\u001b[0;31m     \u001b[0mdb\u001b[0m \u001b[0;34m=\u001b[0m \u001b[0mpostgres\u001b[0m\u001b[0;34m.\u001b[0m\u001b[0mconnect\u001b[0m\u001b[0;34m(\u001b[0m\u001b[0murl\u001b[0m\u001b[0;34m)\u001b[0m\u001b[0;34m\u001b[0m\u001b[0;34m\u001b[0m\u001b[0m\n\u001b[0m\u001b[1;32m      4\u001b[0m \u001b[0;34m\u001b[0m\u001b[0m\n\u001b[1;32m      5\u001b[0m     \u001b[0;32myield\u001b[0m \u001b[0mdb\u001b[0m\u001b[0;34m\u001b[0m\u001b[0;34m\u001b[0m\u001b[0m\n",
      "\u001b[0;31mNameError\u001b[0m: name 'postgres' is not defined"
     ]
    }
   ],
   "source": [
    "@contextlib.contextmanager\n",
    "def database(url):\n",
    "    db = postgres.connect(url)\n",
    "    \n",
    "    yield db\n",
    "    \n",
    "    db.disconnect()\n",
    "\n",
    "url = 'http://dataquest.io/mydata'\n",
    "\n",
    "with database(url) as my_db:\n",
    "    course_list = my_db.execute(\n",
    "        'SELECT * FROM courses'\n",
    "    )\n",
    "    \n",
    "# don't worry about the error, it's just because I don't have postgres imported."
   ]
  },
  {
   "cell_type": "markdown",
   "id": "49441c86",
   "metadata": {},
   "source": [
    "## Nested Contexts"
   ]
  },
  {
   "cell_type": "markdown",
   "id": "77e1475d",
   "metadata": {},
   "source": [
    "Here is a function that copies data from one place to another. "
   ]
  },
  {
   "cell_type": "code",
   "execution_count": null,
   "id": "e4a9098c",
   "metadata": {},
   "outputs": [],
   "source": [
    "def copy(src, dst):\n",
    "    '''Copy the contents of one file to another.\n",
    "    \n",
    "    Args:\n",
    "        src (str): File name of the file to be copied.\n",
    "        dst (str): The destination of the new file.\n",
    "    '''\n",
    "    \n",
    "    with open(src) as f_src:\n",
    "        content = f_src.read()\n",
    "\n",
    "    with open(dst, 'w') as f_dst:\n",
    "        f_dst.write(content)\n",
    "        \n",
    "with open('my_file.txt') as my_file:\n",
    "    for line in my_file\n",
    "    # do something\n",
    "        "
   ]
  },
  {
   "cell_type": "markdown",
   "id": "1d7981e2",
   "metadata": {},
   "source": [
    "It's fine if the information fits in the computer memory, but if the data is too large, this won't work. Instead, we can nest contexts. "
   ]
  },
  {
   "cell_type": "code",
   "execution_count": 68,
   "id": "ee769a32",
   "metadata": {},
   "outputs": [],
   "source": [
    "def copy(src, dst):\n",
    "    with open(src) as f_src:\n",
    "        with open(dst, 'w') as f_dst:\n",
    "            for line in f_src:\n",
    "                f_dst.write(line)\n"
   ]
  },
  {
   "cell_type": "markdown",
   "id": "e6174414",
   "metadata": {},
   "source": [
    "Take care to handle errors when writing a context manager. If there's an error after the yield statement but before the teardown, there could be a traffic jam. \n",
    "\n",
    "The solution is to use try, except, and finally. "
   ]
  },
  {
   "cell_type": "markdown",
   "id": "e858c3c9",
   "metadata": {},
   "source": [
    "Here, the context manager is vulnerable to errors because the printer connection is held by one person, then if an error is thrown, the printer doesn't ever get a chance to disconnect. "
   ]
  },
  {
   "cell_type": "code",
   "execution_count": null,
   "id": "ed568551",
   "metadata": {},
   "outputs": [],
   "source": [
    "@contextlib.contextmanager\n",
    "def get_printer(ip):\n",
    "    p = connect_to_printer(ip)\n",
    "    \n",
    "    yield p\n",
    "    \n",
    "    p.disconnect"
   ]
  },
  {
   "cell_type": "markdown",
   "id": "22853ba5",
   "metadata": {},
   "source": [
    "The solution:"
   ]
  },
  {
   "cell_type": "code",
   "execution_count": null,
   "id": "f55f4441",
   "metadata": {},
   "outputs": [],
   "source": [
    "try:\n",
    "  # code that might raise an error\n",
    "except:\n",
    "  # do something about the error\n",
    "finally:\n",
    "  # this code runs no matter what"
   ]
  },
  {
   "cell_type": "markdown",
   "id": "55345479",
   "metadata": {},
   "source": [
    "In practice:"
   ]
  },
  {
   "cell_type": "code",
   "execution_count": 69,
   "id": "65cba3fb",
   "metadata": {},
   "outputs": [],
   "source": [
    "@contextlib.contextmanager\n",
    "def get_printer(ip):\n",
    "    p = connect_to_printer(ip)\n",
    "    \n",
    "    try:\n",
    "        yield\n",
    "    finally:\n",
    "        p.disconnect"
   ]
  },
  {
   "cell_type": "markdown",
   "id": "7d19bf55",
   "metadata": {},
   "source": [
    "# Final Notes on When to Use Context Managers"
   ]
  },
  {
   "cell_type": "markdown",
   "id": "b594ac52",
   "metadata": {},
   "source": [
    "Consider using when you're writing code that is open/close sort of stuff:\n",
    "\n",
    "- open/close\n",
    "- lock/relase\n",
    "- change/reset\n",
    "- enter/exit\n",
    "- start/stop\n",
    "- setup/teardown\n",
    "- connect/disconnect"
   ]
  },
  {
   "cell_type": "markdown",
   "id": "719b897f",
   "metadata": {},
   "source": [
    "# Decorators "
   ]
  },
  {
   "cell_type": "code",
   "execution_count": 83,
   "id": "731033d3",
   "metadata": {},
   "outputs": [
    {
     "data": {
      "text/plain": [
       "5"
      ]
     },
     "execution_count": 83,
     "metadata": {},
     "output_type": "execute_result"
    }
   ],
   "source": [
    "def multiply_these(x, y):\n",
    "    return x*y\n",
    "\n",
    "multiply_these(1, 5)"
   ]
  },
  {
   "cell_type": "markdown",
   "id": "649500ab",
   "metadata": {},
   "source": [
    "Here's an example of a decorator in action:\n",
    "\n",
    "1. The decorator function, double_args, takes a function as an argument\n",
    "2. There's a nested function, wrapper, inside that which introduces two arguments (these should be the same number of arguments as in the function you're trying to decorate in the first place)\n",
    "3. The decorator function returns the wrapper, now that the wrapper has modified the two arguments in some way\n",
    "4. (optional depending on if you don't want to use the '@' syntax) The decorator function calls the original function you want to decorate, and assigns the resulting function to a variable \n",
    "5. You call the variable function"
   ]
  },
  {
   "cell_type": "code",
   "execution_count": 142,
   "id": "149b0cde",
   "metadata": {},
   "outputs": [
    {
     "data": {
      "text/plain": [
       "20"
      ]
     },
     "execution_count": 142,
     "metadata": {},
     "output_type": "execute_result"
    }
   ],
   "source": [
    "def double_args(func):\n",
    "    def wrapper(a, b):\n",
    "        return func(a * 2, b * 2)\n",
    "    return wrapper\n",
    "\n",
    "def multiply_these(x, y):\n",
    "    return x*y\n",
    "\n",
    "multiply_these = double_args(multiply_these)\n",
    "\n",
    "multiply_these(1, 5)"
   ]
  },
  {
   "cell_type": "markdown",
   "id": "8eee489a",
   "metadata": {},
   "source": [
    "the above code is logically the exact same as below. The difference is syntactical sugar to make things easier below compared to above."
   ]
  },
  {
   "cell_type": "code",
   "execution_count": 141,
   "id": "10962e9b",
   "metadata": {},
   "outputs": [
    {
     "data": {
      "text/plain": [
       "20"
      ]
     },
     "execution_count": 141,
     "metadata": {},
     "output_type": "execute_result"
    }
   ],
   "source": [
    "def double_args(func):\n",
    "    def wrapper(a, b):\n",
    "        return func(a * 2, b * 2)\n",
    "    return wrapper\n",
    "\n",
    "@double_args\n",
    "def multiply_these(x, y):\n",
    "    return x*y\n",
    "\n",
    "multiply_these(1, 5)"
   ]
  },
  {
   "cell_type": "markdown",
   "id": "b0face3d",
   "metadata": {},
   "source": [
    "This is a handy function to test whether or not your functions have docstrings. In production, you might consider making an array of all your function names, and passing them through this function to double check to make sure everything is documented properly."
   ]
  },
  {
   "cell_type": "code",
   "execution_count": 94,
   "id": "c8ea25c2",
   "metadata": {},
   "outputs": [
    {
     "name": "stdout",
     "output_type": "stream",
     "text": [
      "test_doc has a docstring\n"
     ]
    },
    {
     "data": {
      "text/plain": [
       "True"
      ]
     },
     "execution_count": 94,
     "metadata": {},
     "output_type": "execute_result"
    }
   ],
   "source": [
    "def test_doc(x):\n",
    "    '''sample docstring\n",
    "    Args:\n",
    "        x (int): the number\n",
    "    \n",
    "    Returns:\n",
    "        int\n",
    "    '''\n",
    "    \n",
    "    print(x)\n",
    "    \n",
    "    \n",
    "def has_docstring(func):\n",
    "    \"\"\"Check to see if the function \n",
    "    `func` has a docstring.\n",
    "  \n",
    "    Args:\n",
    "        func (callable): A function.\n",
    "    \n",
    "    Returns:\n",
    "        bool\n",
    "    \"\"\"\n",
    "    ok = func.__doc__ is not None\n",
    "    if not ok:\n",
    "        print('{} has no docstring'.format(func.__name__))\n",
    "    else:\n",
    "        print('{} has a docstring'.format(func.__name__))\n",
    "    return func.__doc__ is not None\n",
    "\n",
    "has_docstring(test_doc)"
   ]
  },
  {
   "cell_type": "markdown",
   "id": "9abb1543",
   "metadata": {},
   "source": [
    "## Some helpful background information about how functions work "
   ]
  },
  {
   "cell_type": "markdown",
   "id": "92fe5fb3",
   "metadata": {},
   "source": [
    "### Functions as Objects"
   ]
  },
  {
   "cell_type": "markdown",
   "id": "44c429ea",
   "metadata": {},
   "source": [
    "Because like almost everything else in python, functions are objects, we can assign a function to a variable.\n",
    "\n",
    "Note that when assigning to the new variable, __there are no parentheses, meaning you're not actually calling the function at that time.__"
   ]
  },
  {
   "cell_type": "code",
   "execution_count": 98,
   "id": "0792d30c",
   "metadata": {},
   "outputs": [
    {
     "data": {
      "text/plain": [
       "function"
      ]
     },
     "execution_count": 98,
     "metadata": {},
     "output_type": "execute_result"
    }
   ],
   "source": [
    "def my_func():\n",
    "    print('Hey')\n",
    "\n",
    "new_variable = my_func\n",
    "\n",
    "type(new_variable)"
   ]
  },
  {
   "cell_type": "markdown",
   "id": "0bdd523e",
   "metadata": {},
   "source": [
    "Once assigned to a variable, we can even call it from that variable:"
   ]
  },
  {
   "cell_type": "code",
   "execution_count": 104,
   "id": "35cf2e3a",
   "metadata": {},
   "outputs": [
    {
     "name": "stdout",
     "output_type": "stream",
     "text": [
      "Hey\n"
     ]
    }
   ],
   "source": [
    "new_variable()"
   ]
  },
  {
   "cell_type": "markdown",
   "id": "14dc3117",
   "metadata": {},
   "source": [
    "We can also put these variables (or the function names themselves) into a list and call them from there:"
   ]
  },
  {
   "cell_type": "code",
   "execution_count": 102,
   "id": "dec2e872",
   "metadata": {},
   "outputs": [
    {
     "name": "stdout",
     "output_type": "stream",
     "text": [
      "Hey\n"
     ]
    }
   ],
   "source": [
    "list_of_funcs = [new_variable]\n",
    "list_of_funcs[0]()"
   ]
  },
  {
   "cell_type": "markdown",
   "id": "23d9651f",
   "metadata": {},
   "source": [
    "### Nested Functions"
   ]
  },
  {
   "cell_type": "markdown",
   "id": "269a3403",
   "metadata": {},
   "source": [
    "A nested function is a function defined within another function. Also known as:\n",
    " - inner functions\n",
    " - helper functions\n",
    " - child functions"
   ]
  },
  {
   "cell_type": "code",
   "execution_count": 106,
   "id": "e223668c",
   "metadata": {},
   "outputs": [],
   "source": [
    "def between(x, y):\n",
    "    if x > 4 and x < 10 and y > 4 and y < 10:\n",
    "        print(x * y)\n",
    "\n",
    "# this can be made easier to read by adding a nested function:\n",
    "\n",
    "def between(x, y):\n",
    "    def in_range(v):\n",
    "        return v > 4 and v < 10\n",
    "    \n",
    "    if in_range(x) and in_range(y):\n",
    "        print(x * y)"
   ]
  },
  {
   "cell_type": "markdown",
   "id": "df86eee5",
   "metadata": {},
   "source": [
    "You can also assign the return value of a function to a variable (unlike the bold from above):"
   ]
  },
  {
   "cell_type": "code",
   "execution_count": 108,
   "id": "d862e5bd",
   "metadata": {},
   "outputs": [
    {
     "name": "stdout",
     "output_type": "stream",
     "text": [
      "This works\n"
     ]
    }
   ],
   "source": [
    "# get_function returns a function\n",
    "def get_function():\n",
    "    def print_me(s):\n",
    "        print(s)\n",
    "    return print_me\n",
    "\n",
    "# note the assignment with the parentheses\n",
    "new_func = get_function()\n",
    "new_func('This works')"
   ]
  },
  {
   "cell_type": "markdown",
   "id": "a57c4a0f",
   "metadata": {},
   "source": [
    "### Nonlocal Scope"
   ]
  },
  {
   "cell_type": "markdown",
   "id": "7f5051d2",
   "metadata": {},
   "source": [
    "Variables defined inside a function stay inside the function. \n",
    "\n",
    "Even if a variable has the same name outside the function, they will stay separate."
   ]
  },
  {
   "cell_type": "code",
   "execution_count": 109,
   "id": "b4233138",
   "metadata": {},
   "outputs": [
    {
     "name": "stdout",
     "output_type": "stream",
     "text": [
      "42\n",
      "200\n"
     ]
    }
   ],
   "source": [
    "x = 7\n",
    "y = 200\n",
    "\n",
    "def foo():\n",
    "    x = 42\n",
    "    print(x)\n",
    "    print(y)\n",
    "\n",
    "foo()"
   ]
  },
  {
   "cell_type": "markdown",
   "id": "d0d194b5",
   "metadata": {},
   "source": [
    "The python interpreter looks for variables in the following order:\n",
    "1. __Local scope__ (within the function)\n",
    "2. __Nonlocal scope__ (within the parent function)\n",
    "3. __Global scope__ (a previously defined variable outside of any function)\n",
    "4. __Built-in scope__ (ex: print)"
   ]
  },
  {
   "cell_type": "markdown",
   "id": "a1401495",
   "metadata": {},
   "source": [
    "we can change the value of a variable outside the local scope by using the `global` keyword. However, this is not best practice and makes debugging harder."
   ]
  },
  {
   "cell_type": "code",
   "execution_count": 111,
   "id": "e7ab9d29",
   "metadata": {},
   "outputs": [
    {
     "name": "stdout",
     "output_type": "stream",
     "text": [
      "42\n",
      "42\n"
     ]
    }
   ],
   "source": [
    "x = 7\n",
    "\n",
    "def foo():\n",
    "    global x\n",
    "    x = 42\n",
    "    print(x)\n",
    "\n",
    "foo()\n",
    "print(x)"
   ]
  },
  {
   "cell_type": "markdown",
   "id": "9e04ef55",
   "metadata": {},
   "source": [
    "Same concept goes for changing values of variables in nonlocal scope:"
   ]
  },
  {
   "cell_type": "code",
   "execution_count": 112,
   "id": "44ce1c24",
   "metadata": {},
   "outputs": [
    {
     "name": "stdout",
     "output_type": "stream",
     "text": [
      "200\n",
      "200\n"
     ]
    }
   ],
   "source": [
    "def foo():\n",
    "    x = 10\n",
    "\n",
    "    def bar():\n",
    "        nonlocal x\n",
    "        x = 200\n",
    "        print(x)\n",
    "\n",
    "    bar()\n",
    "    print(x)\n",
    "\n",
    "foo()"
   ]
  },
  {
   "cell_type": "markdown",
   "id": "e949eaf6",
   "metadata": {},
   "source": [
    "### Closures"
   ]
  },
  {
   "cell_type": "markdown",
   "id": "3e2fccaa",
   "metadata": {},
   "source": [
    "A closure is a tuple of variables that a function needs to run that are no longer in local scope. \n",
    "\n",
    "Below, a function (foo) returns a nested function (bar). Even though `a` is defined in foo's scope, not bar's, the __closure__ attribute of the function contains (as a tuple) the variable."
   ]
  },
  {
   "cell_type": "code",
   "execution_count": 130,
   "id": "01c11c3f",
   "metadata": {},
   "outputs": [
    {
     "name": "stdout",
     "output_type": "stream",
     "text": [
      "5\n"
     ]
    }
   ],
   "source": [
    "def foo():\n",
    "    a = 5\n",
    "    def bar():\n",
    "        print(a)\n",
    "    return bar\n",
    "\n",
    "func = foo()\n",
    "func()"
   ]
  },
  {
   "cell_type": "markdown",
   "id": "a5f077cc",
   "metadata": {},
   "source": [
    "This shows that there's 1 variable in the closure."
   ]
  },
  {
   "cell_type": "code",
   "execution_count": 132,
   "id": "25f7d7b5",
   "metadata": {
    "scrolled": true
   },
   "outputs": [
    {
     "data": {
      "text/plain": [
       "1"
      ]
     },
     "execution_count": 132,
     "metadata": {},
     "output_type": "execute_result"
    }
   ],
   "source": [
    "len(func.__closure__)"
   ]
  },
  {
   "cell_type": "markdown",
   "id": "5535c131",
   "metadata": {},
   "source": [
    "This is how to access the contents of the closure"
   ]
  },
  {
   "cell_type": "code",
   "execution_count": 137,
   "id": "32eebfa8",
   "metadata": {},
   "outputs": [
    {
     "data": {
      "text/plain": [
       "5"
      ]
     },
     "execution_count": 137,
     "metadata": {},
     "output_type": "execute_result"
    }
   ],
   "source": [
    "func.__closure__[0].cell_contents"
   ]
  },
  {
   "cell_type": "markdown",
   "id": "47b00743",
   "metadata": {},
   "source": [
    "In this example, see how the arg1 and arg2 of return_a_func are passed via closure to new_func."
   ]
  },
  {
   "cell_type": "code",
   "execution_count": 138,
   "id": "7d8921de",
   "metadata": {},
   "outputs": [
    {
     "name": "stdout",
     "output_type": "stream",
     "text": [
      "2\n",
      "2\n",
      "17\n"
     ]
    }
   ],
   "source": [
    "def return_a_func(arg1, arg2):\n",
    "    def new_func():\n",
    "        print('arg1 was {}'.format(arg1))\n",
    "        print('arg2 was {}'.format(arg2))\n",
    "    return new_func\n",
    "    \n",
    "my_func = return_a_func(2, 17)\n",
    "\n",
    "\n",
    "# length of the closure\n",
    "print(len(my_func.__closure__))\n",
    "\n",
    "# first variable in closure\n",
    "print(my_func.__closure__[0].cell_contents)\n",
    "\n",
    "# second variable in closure\n",
    "print(my_func.__closure__[1].cell_contents)"
   ]
  },
  {
   "cell_type": "markdown",
   "id": "03d60761",
   "metadata": {},
   "source": [
    "## Putting it all Together\n",
    "\n",
    "A decorator is a function that takes a function as an argument and returns a modified version of that function.\n",
    "\n",
    "The decorator can change the inputs, the outputs, or the behavior of the function itself, all three, or any combination thereof.\n",
    "\n",
    "Here's a full example of a decorator in action:"
   ]
  },
  {
   "cell_type": "code",
   "execution_count": 143,
   "id": "bf781102",
   "metadata": {},
   "outputs": [
    {
     "name": "stdout",
     "output_type": "stream",
     "text": [
      "my_function was called with a=1, b=2, c=3\n",
      "6\n"
     ]
    }
   ],
   "source": [
    "import inspect\n",
    "\n",
    "def print_args(func):\n",
    "    sig = inspect.signature(func)\n",
    "    def wrapper(*args, **kwargs):\n",
    "        bound = sig.bind(*args, **kwargs).arguments\n",
    "        str_args = ', '.join(['{}={}'.format(k, v) for k, v in bound.items()])\n",
    "        print('{} was called with {}'.format(func.__name__, str_args))\n",
    "        return func(*args, **kwargs)\n",
    "    return wrapper\n",
    "\n",
    "@print_args\n",
    "def my_function(a, b, c):\n",
    "    print(a + b + c)\n",
    "    \n",
    "my_function(1, 2, 3)"
   ]
  },
  {
   "cell_type": "markdown",
   "id": "d089b3ea",
   "metadata": {},
   "source": [
    "## Advanced Decorators"
   ]
  },
  {
   "cell_type": "markdown",
   "id": "b76bbb4e",
   "metadata": {},
   "source": [
    "Below is a decorator designed to keep track of which arguments have already been passed into a given function by caching them. In doing so, if the function is called again with the same arguments, no computation actually has to occur other than just identifying the cached result. \n",
    "\n",
    "You can see the first time it's called, the salty function runs in its entirety.\n",
    "\n",
    "The second time it's called, the print statement doesn't run, nor does the timer. Only the return statement is represented, but even then, it's only because it's the same information as what got cached from those arguments in the past. "
   ]
  },
  {
   "cell_type": "code",
   "execution_count": 155,
   "id": "24e60102",
   "metadata": {},
   "outputs": [
    {
     "name": "stdout",
     "output_type": "stream",
     "text": [
      "so sleepy!\n"
     ]
    },
    {
     "data": {
      "text/plain": [
       "12"
      ]
     },
     "execution_count": 155,
     "metadata": {},
     "output_type": "execute_result"
    }
   ],
   "source": [
    "def memoize(func):\n",
    "    \"\"\"Store the results of the decorated function for fast lookup\n",
    "    Args:\n",
    "        a function\n",
    "    \n",
    "    Returns:\n",
    "        nested function\n",
    "    \"\"\"\n",
    "    cache = {}\n",
    "    def wrapper(*args, **kwargs):\n",
    "        keys = (args, tuple(kwargs.items()))\n",
    "        if keys not in cache:\n",
    "            cache[keys] = func(*args, **kwargs)\n",
    "        return cache[keys]\n",
    "    return wrapper\n",
    "\n",
    "@memoize\n",
    "def salty(a, b):\n",
    "    print('so sleepy!')\n",
    "    time.sleep(3)\n",
    "    return a * b\n",
    "\n",
    "salty(3, 4)"
   ]
  },
  {
   "cell_type": "code",
   "execution_count": 156,
   "id": "90c71432",
   "metadata": {},
   "outputs": [
    {
     "data": {
      "text/plain": [
       "12"
      ]
     },
     "execution_count": 156,
     "metadata": {},
     "output_type": "execute_result"
    }
   ],
   "source": [
    "salty(3, 4)"
   ]
  },
  {
   "cell_type": "markdown",
   "id": "766043e6",
   "metadata": {},
   "source": [
    "Here's another example, using a counter decorator.\n",
    "\n",
    "Notice how the final line of code uses the .count method on the decorated function."
   ]
  },
  {
   "cell_type": "code",
   "execution_count": 160,
   "id": "c349e487",
   "metadata": {},
   "outputs": [
    {
     "name": "stdout",
     "output_type": "stream",
     "text": [
      "calling fuh()\n",
      "calling fuh()\n",
      "fuh was called 2 times\n"
     ]
    }
   ],
   "source": [
    "def counter(func):\n",
    "    def wrapper(*args, **kwargs):\n",
    "        wrapper.count += 1\n",
    "        result = func(*args, **kwargs)\n",
    "        return result\n",
    "    wrapper.count = 0\n",
    "    return wrapper\n",
    "\n",
    "@counter\n",
    "def fuh():\n",
    "    print('calling fuh()')\n",
    "\n",
    "fuh()\n",
    "fuh()\n",
    "    \n",
    "print('fuh was called {} times'.format(fuh.count))"
   ]
  },
  {
   "cell_type": "markdown",
   "id": "db8eb1ba",
   "metadata": {},
   "source": [
    "Another example, using a timer decorator. This is a good idea to add to all my projects to see easily where the computational bottlenecks are."
   ]
  },
  {
   "cell_type": "code",
   "execution_count": 207,
   "id": "43b811eb",
   "metadata": {},
   "outputs": [],
   "source": [
    "import time\n",
    "\n",
    "def timer(func):\n",
    "    '''A decorator that prints how long a function took to run.\n",
    "    \n",
    "    Args:\n",
    "        func (callable): The function being decorated.\n",
    "    \n",
    "    Returns:\n",
    "        callable: the decorated function\n",
    "    '''\n",
    "    \n",
    "    def wrapper(*args, **kwargs):\n",
    "        t_start = time.time()\n",
    "        result = func(*args, **kwargs)\n",
    "        t_total = time.time() - t_start\n",
    "        \n",
    "        print('{} took {} seconds to run.'.format(func.__name__, t_total))\n",
    "        return result\n",
    "    \n",
    "    return wrapper"
   ]
  },
  {
   "cell_type": "code",
   "execution_count": 208,
   "id": "f6872ae1",
   "metadata": {},
   "outputs": [
    {
     "name": "stdout",
     "output_type": "stream",
     "text": [
      "sleep_n_seconds took 5.002283096313477 seconds to run.\n"
     ]
    }
   ],
   "source": [
    "# testing out the decorator\n",
    "\n",
    "@timer\n",
    "def sleep_n_seconds(n):\n",
    "    time.sleep(n)\n",
    "    \n",
    "sleep_n_seconds(5)"
   ]
  },
  {
   "cell_type": "markdown",
   "id": "cd2ac0d5",
   "metadata": {},
   "source": [
    "Another example, in which the decorator will print what type the result is. This can be very useful in debugging functions that return strange outputs. It confirms that the type of the output is the type that you expected."
   ]
  },
  {
   "cell_type": "code",
   "execution_count": 170,
   "id": "6b0c7cea",
   "metadata": {},
   "outputs": [
    {
     "name": "stdout",
     "output_type": "stream",
     "text": [
      "feh() returned type <class 'int'>\n",
      "42\n",
      "feh() returned type <class 'list'>\n",
      "[1, 2, 3]\n",
      "feh() returned type <class 'dict'>\n",
      "{'a': 42}\n"
     ]
    }
   ],
   "source": [
    "def print_return_type(func):\n",
    "    def wrapper(*args, **kwargs):\n",
    "        result = func(*args, **kwargs)\n",
    "        print('{}() returned type {}'.format(func.__name__, type(result)))\n",
    "        return result\n",
    "    return wrapper\n",
    "\n",
    "@print_return_type\n",
    "def feh(value):\n",
    "    return value\n",
    "\n",
    "print(feh(42))\n",
    "print(feh([1,2,3]))\n",
    "print(feh({'a': 42}))"
   ]
  },
  {
   "cell_type": "markdown",
   "id": "f59e33d6",
   "metadata": {},
   "source": [
    "# Quick Recap"
   ]
  },
  {
   "cell_type": "markdown",
   "id": "6e285e9c",
   "metadata": {},
   "source": [
    "Here's a quick comparison between using a context manager and using a decorator.\n",
    "\n",
    "Both result in opening a file. \n",
    "\n",
    "The context manager creates a temporary environment in which a variable is passed into the context block, and then that environment is destroyed.\n",
    "\n",
    "The decorator changes the output of the function it's applied to.\n",
    "\n",
    "Use cases for context managers: creating temporary environments where you do an off/on, open/close kind of process. Also, preventing \"traffic jam\" type bugs, where an error message disrupts the ability to move forward, you can use the try/except/finally statements.  \n",
    "\n",
    "For decorators, the possibilites are more vast, in that you can change any function to do anything other than its explicit purpose by adding/modifying code in the decorator. \n"
   ]
  },
  {
   "cell_type": "code",
   "execution_count": 210,
   "id": "1c43f950",
   "metadata": {},
   "outputs": [
    {
     "name": "stdout",
     "output_type": "stream",
     "text": [
      "nice text file you got there, man\n",
      "\n"
     ]
    }
   ],
   "source": [
    "from contextlib import contextmanager\n",
    "\n",
    "@contextmanager\n",
    "def open_read_only(filename):\n",
    "    read_only = open(filename)\n",
    "    yield read_only\n",
    "    read_only.close()\n",
    "    \n",
    "with open_read_only('texty.txt') as file:\n",
    "    print(file.read())\n",
    "    "
   ]
  },
  {
   "cell_type": "code",
   "execution_count": null,
   "id": "b909eb22",
   "metadata": {},
   "outputs": [],
   "source": [
    "def reader(func):\n",
    "    def wrapper(*args, **kwargs):\n",
    "        print(\"You're now opening {}\".format(args[0]), '\\n')\n",
    "        result = func(*args, **kwargs)\n",
    "        return result\n",
    "    return wrapper\n",
    "\n",
    "# disabling the @ line will remove the 'decoration' of the printed statement.\n",
    "# the decorator's job is to provide additional functionality to the function.\n",
    "\n",
    "@reader\n",
    "def open_file(file):\n",
    "    opened = open(file)\n",
    "    read = opened.read()\n",
    "    return print(read)\n",
    "\n",
    "open_file('texty.txt')"
   ]
  },
  {
   "cell_type": "markdown",
   "id": "82f97c54",
   "metadata": {},
   "source": [
    "## decorator drawback"
   ]
  },
  {
   "cell_type": "markdown",
   "id": "0368fba0",
   "metadata": {},
   "source": [
    "By using a decorator, you obscure the metadata of the decorated function. using the feh function above, see what happens when we try to access the __ name __ .\n",
    "\n",
    "Instead of the name of the function, we get the name of the wrapper."
   ]
  },
  {
   "cell_type": "code",
   "execution_count": 223,
   "id": "4e4820a7",
   "metadata": {
    "scrolled": true
   },
   "outputs": [
    {
     "name": "stdout",
     "output_type": "stream",
     "text": [
      "wrapper\n"
     ]
    }
   ],
   "source": [
    "print(open_file.__name__)"
   ]
  },
  {
   "cell_type": "markdown",
   "id": "ae472415",
   "metadata": {},
   "source": [
    "To preserve the function's metadata, we can use a new decorator that python provides called the wraps() function from the functools module.\n",
    "\n",
    "Note that the @wraps decorator takes func as an argument."
   ]
  },
  {
   "cell_type": "code",
   "execution_count": 226,
   "id": "f0c9c623",
   "metadata": {},
   "outputs": [
    {
     "name": "stdout",
     "output_type": "stream",
     "text": [
      "You're now opening texty.txt \n",
      "\n",
      "nice text file you got there, man\n",
      "\n"
     ]
    }
   ],
   "source": [
    "from functools import wraps\n",
    "\n",
    "def reader(func):\n",
    "    '''A decorator that prints the name of the file being opened.\n",
    "    '''\n",
    "    @wraps(func)\n",
    "    def wrapper(*args, **kwargs):\n",
    "        print(\"You're now opening {}\".format(args[0]), '\\n')\n",
    "        result = func(*args, **kwargs)\n",
    "        return result\n",
    "    return wrapper\n",
    "\n",
    "@reader\n",
    "def open_file(file):\n",
    "    opened = open(file)\n",
    "    read = opened.read()\n",
    "    return print(read)\n",
    "\n",
    "open_file('texty.txt')\n",
    "\n"
   ]
  },
  {
   "cell_type": "markdown",
   "id": "7ad097ea",
   "metadata": {},
   "source": [
    "Now that we've used @wraps(func), we get the expected result and the metadata is preserved."
   ]
  },
  {
   "cell_type": "code",
   "execution_count": 227,
   "id": "a133cce3",
   "metadata": {},
   "outputs": [
    {
     "name": "stdout",
     "output_type": "stream",
     "text": [
      "open_file\n"
     ]
    }
   ],
   "source": [
    "print(open_file.__name__)"
   ]
  },
  {
   "cell_type": "markdown",
   "id": "4ee4c249",
   "metadata": {},
   "source": [
    "We can now access the UNdecorated function by accessing the _ _ wrapped _ _ attribute."
   ]
  },
  {
   "cell_type": "code",
   "execution_count": 228,
   "id": "b866743a",
   "metadata": {},
   "outputs": [
    {
     "data": {
      "text/plain": [
       "<function __main__.open_file(file)>"
      ]
     },
     "execution_count": 228,
     "metadata": {},
     "output_type": "execute_result"
    }
   ],
   "source": [
    "open_file.__wrapped__"
   ]
  },
  {
   "cell_type": "markdown",
   "id": "d358e292",
   "metadata": {},
   "source": [
    "Below is confirmation that the _ _ wrapped _ _ attribute gives us the undecorated function results, and calling the function normally gives us the decorated results."
   ]
  },
  {
   "cell_type": "code",
   "execution_count": 235,
   "id": "05ebaa2a",
   "metadata": {},
   "outputs": [
    {
     "name": "stdout",
     "output_type": "stream",
     "text": [
      "nice text file you got there, man\n",
      "\n"
     ]
    }
   ],
   "source": [
    "open_file.__wrapped__('texty.txt')"
   ]
  },
  {
   "cell_type": "code",
   "execution_count": 233,
   "id": "76e8c308",
   "metadata": {},
   "outputs": [
    {
     "name": "stdout",
     "output_type": "stream",
     "text": [
      "You're now opening texty.txt \n",
      "\n",
      "nice text file you got there, man\n",
      "\n"
     ]
    }
   ],
   "source": [
    "open_file('texty.txt')"
   ]
  },
  {
   "cell_type": "markdown",
   "id": "b2166a46",
   "metadata": {},
   "source": [
    "### Another @wraps example"
   ]
  },
  {
   "cell_type": "code",
   "execution_count": 6,
   "id": "a0b0a5ef",
   "metadata": {},
   "outputs": [
    {
     "name": "stdout",
     "output_type": "stream",
     "text": [
      "Hello\n",
      "30\n",
      "Adds two numbers and prints the sum\n"
     ]
    }
   ],
   "source": [
    "from functools import wraps\n",
    "def add_hello(func):\n",
    "    # Decorate wrapper() so that it keeps func()'s metadata\n",
    "    @wraps(func)\n",
    "    def wrapper(*args, **kwargs):\n",
    "        \"\"\"Print 'hello' and then call the decorated function.\"\"\"\n",
    "        print('Hello')\n",
    "        return func(*args, **kwargs)\n",
    "    return wrapper\n",
    "\n",
    "@add_hello\n",
    "def print_sum(a, b):\n",
    "    \"\"\"Adds two numbers and prints the sum\"\"\"\n",
    "    print(a + b)\n",
    "    \n",
    "print_sum(10, 20)\n",
    "print(print_sum.__doc__)"
   ]
  },
  {
   "cell_type": "markdown",
   "id": "f3f04ca5",
   "metadata": {},
   "source": [
    "## Adding Arguments to Decorators"
   ]
  },
  {
   "cell_type": "markdown",
   "id": "b138c6f0",
   "metadata": {},
   "source": [
    "below is an example decorator that runs the decorated function 3 times."
   ]
  },
  {
   "cell_type": "code",
   "execution_count": 241,
   "id": "03def723",
   "metadata": {},
   "outputs": [
    {
     "name": "stdout",
     "output_type": "stream",
     "text": [
      "10\n",
      "10\n",
      "10\n"
     ]
    }
   ],
   "source": [
    "def run_three_times(func):\n",
    "    def wrapper(*args, **kwargs):\n",
    "        for i in range(3):\n",
    "            func(*args, **kwargs)\n",
    "    return wrapper\n",
    "\n",
    "@run_three_times\n",
    "def print_sum(a, b):\n",
    "    print(a + b)\n",
    "\n",
    "print_sum(8, 2)"
   ]
  },
  {
   "cell_type": "markdown",
   "id": "efa60529",
   "metadata": {},
   "source": [
    "if we want to run it n times, though, we need to turn the decorator into a function that returns a decorator, rather than a function that IS a decorator."
   ]
  },
  {
   "cell_type": "code",
   "execution_count": 250,
   "id": "b81b284d",
   "metadata": {},
   "outputs": [
    {
     "name": "stdout",
     "output_type": "stream",
     "text": [
      "hey\n",
      "6\n",
      "hey\n",
      "6\n",
      "hey\n",
      "6\n",
      "hey\n",
      "6\n",
      "hey\n",
      "6\n"
     ]
    }
   ],
   "source": [
    "def run_n_times(n):\n",
    "    def decorator(func):\n",
    "        def wrapper(*args, **kwargs):\n",
    "            for i in range(n):\n",
    "                print('hey')\n",
    "                func(*args, **kwargs)\n",
    "        return wrapper\n",
    "    return decorator\n",
    "\n",
    "@run_n_times(5)\n",
    "def print_sum(a, b):\n",
    "    print(a + b)\n",
    "    \n",
    "print_sum(2, 4)\n"
   ]
  },
  {
   "cell_type": "markdown",
   "id": "8e780dbe",
   "metadata": {},
   "source": [
    "We see above that we can now specify an argument in the decorator when it is decorating a function."
   ]
  },
  {
   "cell_type": "code",
   "execution_count": 251,
   "id": "66116404",
   "metadata": {},
   "outputs": [
    {
     "name": "stdout",
     "output_type": "stream",
     "text": [
      "8\n",
      "8\n",
      "8\n",
      "Hello!\n",
      "Hello!\n",
      "Hello!\n",
      "Hello!\n",
      "Hello!\n"
     ]
    }
   ],
   "source": [
    "def run_n_times(n):\n",
    "    \"\"\"Define and return a decorator\"\"\"\n",
    "    def decorator(func):\n",
    "        def wrapper(*args, **kwargs):\n",
    "            for i in range(n):\n",
    "                func(*args, **kwargs)\n",
    "        return wrapper\n",
    "    return decorator\n",
    "\n",
    "@run_n_times(3)\n",
    "def print_sum(a, b):\n",
    "    print(a + b)\n",
    "\n",
    "print_sum(3, 5)\n",
    "    \n",
    "@run_n_times(5)\n",
    "def print_hello():\n",
    "    print('Hello!')\n",
    "    \n",
    "print_hello()"
   ]
  },
  {
   "cell_type": "markdown",
   "id": "5537f20b",
   "metadata": {},
   "source": [
    "# real world decorator examples"
   ]
  },
  {
   "cell_type": "markdown",
   "id": "990c7e45",
   "metadata": {},
   "source": [
    "### Timing Decorator\n",
    "\n",
    "This decorator will tell you how long a function took to execute.\n",
    "\n",
    "Also, '%timeit' is a builtin module that does the same thing (shown further below on the caching example)"
   ]
  },
  {
   "cell_type": "code",
   "execution_count": 9,
   "id": "4f22718a",
   "metadata": {},
   "outputs": [
    {
     "name": "stdout",
     "output_type": "stream",
     "text": [
      "sleep_n_seconds took 5.000128984451294 seconds to run.\n"
     ]
    }
   ],
   "source": [
    "import time\n",
    "\n",
    "def timer(func):\n",
    "    '''A decorator that prints how long a function took to run.\n",
    "    \n",
    "    Args:\n",
    "        func (callable): The function being decorated.\n",
    "    \n",
    "    Returns:\n",
    "        callable: the decorated function\n",
    "    '''\n",
    "    \n",
    "    def wrapper(*args, **kwargs):\n",
    "        t_start = time.time()\n",
    "        result = func(*args, **kwargs)\n",
    "        t_total = time.time() - t_start\n",
    "        \n",
    "        print('{} took {} seconds to run.'.format(func.__name__, t_total))\n",
    "        return result\n",
    "    \n",
    "    return wrapper\n",
    "\n",
    "\n",
    "@timer\n",
    "def sleep_n_seconds(n):\n",
    "    time.sleep(n)\n",
    "    \n",
    "sleep_n_seconds(5)"
   ]
  },
  {
   "cell_type": "markdown",
   "id": "9ec0b90e",
   "metadata": {},
   "source": [
    "### Timeout Decorator\n",
    "\n",
    "This decorator, when added to a function, will throw a timeout error if the function doesn't run by the number of seconds provided in the decorator argument. \n",
    "\n",
    "This is handy to have when building and testing code beacuse it will prevent any operations from running for too long. You could also use this to ensure that any operation must be under a certain length of time."
   ]
  },
  {
   "cell_type": "code",
   "execution_count": 5,
   "id": "46242742",
   "metadata": {
    "scrolled": true
   },
   "outputs": [
    {
     "name": "stdout",
     "output_type": "stream",
     "text": [
      "barr!\n"
     ]
    }
   ],
   "source": [
    "from functools import wraps\n",
    "import signal \n",
    "import time\n",
    "\n",
    "def timeout(n_seconds):\n",
    "    def decorator(func):\n",
    "        @wraps(func)\n",
    "        def wrapper(*args, **kwargs):\n",
    "            signal.alarm(n_seconds)\n",
    "            try:\n",
    "                func(*args, **kwargs)\n",
    "            finally:\n",
    "                signal.alarm(0)\n",
    "        return wrapper\n",
    "    return decorator\n",
    "\n",
    "@timeout(5)\n",
    "def barr():\n",
    "    time.sleep(3)\n",
    "    print('barr!')\n",
    "    \n",
    "barr()\n"
   ]
  },
  {
   "cell_type": "markdown",
   "id": "53244ada",
   "metadata": {},
   "source": [
    "### Type Decorator\n",
    "\n",
    "Another example, in which the decorator will print what type the result is. This can be very useful in debugging functions that return strange outputs. It confirms that the type of the output is the type that you expected."
   ]
  },
  {
   "cell_type": "code",
   "execution_count": 170,
   "id": "b817209e",
   "metadata": {},
   "outputs": [
    {
     "name": "stdout",
     "output_type": "stream",
     "text": [
      "feh() returned type <class 'int'>\n",
      "42\n",
      "feh() returned type <class 'list'>\n",
      "[1, 2, 3]\n",
      "feh() returned type <class 'dict'>\n",
      "{'a': 42}\n"
     ]
    }
   ],
   "source": [
    "def print_return_type(func):\n",
    "    def wrapper(*args, **kwargs):\n",
    "        result = func(*args, **kwargs)\n",
    "        print('{}() returned type {}'.format(func.__name__, type(result)))\n",
    "        return result\n",
    "    return wrapper\n",
    "\n",
    "@print_return_type\n",
    "def feh(value):\n",
    "    return value\n",
    "\n",
    "print(feh(42))\n",
    "print(feh([1,2,3]))\n",
    "print(feh({'a': 42}))"
   ]
  },
  {
   "cell_type": "markdown",
   "id": "d967cded",
   "metadata": {},
   "source": [
    "### Tagging Decorator \n",
    "\n",
    "Here's a decorator that allows you to add tags to functions. This is useful for:\n",
    "- saying who worked on a given functioin\n",
    "- identifying if a function will need to be removed in production\n",
    "- labelling a function as \"experimental\" so people know the inputs and outputs may change"
   ]
  },
  {
   "cell_type": "code",
   "execution_count": 8,
   "id": "b993b306",
   "metadata": {},
   "outputs": [
    {
     "name": "stdout",
     "output_type": "stream",
     "text": [
      "test tag here\n"
     ]
    },
    {
     "data": {
      "text/plain": [
       "7"
      ]
     },
     "execution_count": 8,
     "metadata": {},
     "output_type": "execute_result"
    }
   ],
   "source": [
    "def tag(tags):\n",
    "    def decorator(func):\n",
    "        @wraps(func)\n",
    "        def wrapper(*args, **kwargs):\n",
    "            result = func(*args, **kwargs)\n",
    "            return result\n",
    "        wrapper.tags = tags\n",
    "        print(wrapper.tags)\n",
    "        return wrapper\n",
    "    return decorator\n",
    "\n",
    "@tag('test tag here')\n",
    "def froa(a, b):\n",
    "    return a + b\n",
    "\n",
    "froa(2, 5)"
   ]
  },
  {
   "cell_type": "markdown",
   "id": "3209d475",
   "metadata": {},
   "source": [
    "### Caching Decorator\n",
    "\n",
    "Below is a decorator designed to keep track of which arguments have already been passed into a given function by caching them. In doing so, if the function is called again with the same arguments, no computation actually has to occur other than just identifying the cached result. \n",
    "\n",
    "You can see the first time it's called, the salty function runs in its entirety.\n",
    "\n",
    "The second time it's called, the print statement doesn't run, nor does the timer. Only the return statement is represented, but even then, it's only because it's the same information as what got cached from those arguments in the past. \n",
    "\n",
    "#### Using lru_cache from Functools does the same thing\n",
    "[here](https://docs.python.org/3/library/functools.html) is a link to the documentation for this, but it works the same way under the hood as the decorator I just built. Implemenetation for it seen below this example.\n",
    "\n",
    "Caching is very useful for computationally expensive operations, at the (minor) expense of memory. Recursive functions are a good use case."
   ]
  },
  {
   "cell_type": "code",
   "execution_count": 155,
   "id": "aef8d57d",
   "metadata": {},
   "outputs": [
    {
     "name": "stdout",
     "output_type": "stream",
     "text": [
      "so sleepy!\n"
     ]
    },
    {
     "data": {
      "text/plain": [
       "12"
      ]
     },
     "execution_count": 155,
     "metadata": {},
     "output_type": "execute_result"
    }
   ],
   "source": [
    "def memoize(func):\n",
    "    \"\"\"Store the results of the decorated function for fast lookup\n",
    "    Args:\n",
    "        a function\n",
    "    \n",
    "    Returns:\n",
    "        nested function\n",
    "    \"\"\"\n",
    "    cache = {}\n",
    "    def wrapper(*args, **kwargs):\n",
    "        keys = (args, tuple(kwargs.items()))\n",
    "        if keys not in cache:\n",
    "            cache[keys] = func(*args, **kwargs)\n",
    "        return cache[keys]\n",
    "    return wrapper\n",
    "\n",
    "@memoize\n",
    "def salty(a, b):\n",
    "    print('so sleepy!')\n",
    "    time.sleep(3)\n",
    "    return a * b\n",
    "\n",
    "salty(3, 4)"
   ]
  },
  {
   "cell_type": "code",
   "execution_count": 156,
   "id": "a05d59cf",
   "metadata": {},
   "outputs": [
    {
     "data": {
      "text/plain": [
       "12"
      ]
     },
     "execution_count": 156,
     "metadata": {},
     "output_type": "execute_result"
    }
   ],
   "source": [
    "salty(3, 4)"
   ]
  },
  {
   "cell_type": "code",
   "execution_count": 10,
   "id": "3192ef61",
   "metadata": {},
   "outputs": [],
   "source": [
    "from functools import lru_cache\n",
    "\n",
    "@lru_cache\n",
    "def factorial(n):\n",
    "    return n * factorial(n-1) if n else 1"
   ]
  },
  {
   "cell_type": "code",
   "execution_count": 12,
   "id": "6f372d72",
   "metadata": {},
   "outputs": [
    {
     "name": "stdout",
     "output_type": "stream",
     "text": [
      "58 ns ± 4.07 ns per loop (mean ± std. dev. of 7 runs, 10000000 loops each)\n"
     ]
    }
   ],
   "source": [
    "%timeit factorial(6)"
   ]
  },
  {
   "cell_type": "code",
   "execution_count": 13,
   "id": "21df72cd",
   "metadata": {},
   "outputs": [],
   "source": [
    "def factorial_no_decorator(n):\n",
    "    return n * factorial_no_decorator(n-1) if n else 1"
   ]
  },
  {
   "cell_type": "code",
   "execution_count": 14,
   "id": "40dcc2c0",
   "metadata": {},
   "outputs": [
    {
     "name": "stdout",
     "output_type": "stream",
     "text": [
      "578 ns ± 12.3 ns per loop (mean ± std. dev. of 7 runs, 1000000 loops each)\n"
     ]
    }
   ],
   "source": [
    "%timeit factorial_no_decorator(6)"
   ]
  },
  {
   "cell_type": "markdown",
   "id": "99f61c73",
   "metadata": {},
   "source": [
    "conclusion: caching in this way about 10 times faster in this example."
   ]
  }
 ],
 "metadata": {
  "kernelspec": {
   "display_name": "Python 3",
   "language": "python",
   "name": "python3"
  },
  "language_info": {
   "codemirror_mode": {
    "name": "ipython",
    "version": 3
   },
   "file_extension": ".py",
   "mimetype": "text/x-python",
   "name": "python",
   "nbconvert_exporter": "python",
   "pygments_lexer": "ipython3",
   "version": "3.9.2"
  }
 },
 "nbformat": 4,
 "nbformat_minor": 5
}
